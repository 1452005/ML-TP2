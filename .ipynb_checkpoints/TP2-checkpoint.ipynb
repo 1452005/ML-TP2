{
 "cells": [
  {
   "cell_type": "markdown",
   "metadata": {},
   "source": [
    "Créer un nouveau notebook Python et taper le code suivant dans une nouvelle cellule :"
   ]
  },
  {
   "cell_type": "code",
   "execution_count": 1,
   "metadata": {},
   "outputs": [],
   "source": [
    "import numpy as np\n",
    "np.set_printoptions(threshold=np.nan,suppress=True)\n",
    "import pandas as pd\n",
    "import warnings\n",
    "import matplotlib.pyplot as plt\n",
    "warnings.filterwarnings('ignore')"
   ]
  },
  {
   "cell_type": "markdown",
   "metadata": {},
   "source": [
    "# 1. Chargement des données et préparation : Dans un premier temps nous allons importer le jeu de données et analyser ses caractéristiques"
   ]
  },
  {
   "cell_type": "markdown",
   "metadata": {},
   "source": [
    "## • Importer ce jeu de données avec la librairie pandas (c.f. read_csv)\n",
    "\n",
    "## • Transformer votre jeu de données issue de pandas qui sera de type Data Frame en numpy Array (c.f. values) et séparer ensuite les variables caractéristiques de la variable à prédire (status) en deux tableaux différents."
   ]
  },
  {
   "cell_type": "code",
   "execution_count": 2,
   "metadata": {},
   "outputs": [],
   "source": [
    "data_df = pd.read_csv('./credit_scoring.csv', sep=';')\n",
    "data = data_df.values\n",
    "#  variables caractéristiques \n",
    "X = data[:,0:13]\n",
    "#  variable à prédire\n",
    "Y = data[:,13]"
   ]
  },
  {
   "cell_type": "markdown",
   "metadata": {},
   "source": [
    "## • Analyser les propriétés de vos données : taille de l’échantillon (c.f. shape), nombre d’exemples positifs et négatifs (c.f. hist)."
   ]
  },
  {
   "cell_type": "code",
   "execution_count": 3,
   "metadata": {},
   "outputs": [
    {
     "data": {
      "text/plain": [
       "(4375, 14)"
      ]
     },
     "execution_count": 3,
     "metadata": {},
     "output_type": "execute_result"
    }
   ],
   "source": [
    "data.shape"
   ]
  },
  {
   "cell_type": "markdown",
   "metadata": {},
   "source": [
    "On a 4375 observations dans notre l’échantillon et 14 colonnes (c.à.d 13 variables caractéristiques + 1 variable à prédire)"
   ]
  },
  {
   "cell_type": "code",
   "execution_count": 4,
   "metadata": {},
   "outputs": [
    {
     "data": {
      "text/plain": [
       "array([[<matplotlib.axes._subplots.AxesSubplot object at 0x0000020A7C716E10>,\n",
       "        <matplotlib.axes._subplots.AxesSubplot object at 0x0000020A7C548DA0>,\n",
       "        <matplotlib.axes._subplots.AxesSubplot object at 0x0000020A7CA0BA90>,\n",
       "        <matplotlib.axes._subplots.AxesSubplot object at 0x0000020A7CA3D160>],\n",
       "       [<matplotlib.axes._subplots.AxesSubplot object at 0x0000020A7CA637F0>,\n",
       "        <matplotlib.axes._subplots.AxesSubplot object at 0x0000020A7CA63828>,\n",
       "        <matplotlib.axes._subplots.AxesSubplot object at 0x0000020A7CABD550>,\n",
       "        <matplotlib.axes._subplots.AxesSubplot object at 0x0000020A7CAE4BE0>],\n",
       "       [<matplotlib.axes._subplots.AxesSubplot object at 0x0000020A7CB162B0>,\n",
       "        <matplotlib.axes._subplots.AxesSubplot object at 0x0000020A7CB3D940>,\n",
       "        <matplotlib.axes._subplots.AxesSubplot object at 0x0000020A7CB65FD0>,\n",
       "        <matplotlib.axes._subplots.AxesSubplot object at 0x0000020A7CB966A0>],\n",
       "       [<matplotlib.axes._subplots.AxesSubplot object at 0x0000020A7CBBED30>,\n",
       "        <matplotlib.axes._subplots.AxesSubplot object at 0x0000020A7CBF0400>,\n",
       "        <matplotlib.axes._subplots.AxesSubplot object at 0x0000020A7CC17A90>,\n",
       "        <matplotlib.axes._subplots.AxesSubplot object at 0x0000020A7CC48160>]],\n",
       "      dtype=object)"
      ]
     },
     "execution_count": 4,
     "metadata": {},
     "output_type": "execute_result"
    },
    {
     "data": {
      "image/png": "[encoded data removed]",
      "text/plain": [
       "<Figure size 432x288 with 16 Axes>"
      ]
     },
     "metadata": {
      "needs_background": "light"
     },
     "output_type": "display_data"
    }
   ],
   "source": [
    "data_df.hist(bins = 2)"
   ]
  },
  {
   "cell_type": "markdown",
   "metadata": {},
   "source": [
    "## • Pour éviter d’avoir un résultat biaisé du classifieur que nous allons construire, séparer les données en deux partie une dite d’apprentissage qui servira à l’apprentissage du classifieur et l’autre dite de test qui servira à son évaluation (c.f. train_test_split)."
   ]
  },
  {
   "cell_type": "code",
   "execution_count": 5,
   "metadata": {},
   "outputs": [],
   "source": [
    "from sklearn.model_selection import train_test_split\n",
    "X_train, X_test, Y_train, Y_test = train_test_split(X, Y, test_size=0.33, random_state=42)"
   ]
  },
  {
   "cell_type": "markdown",
   "metadata": {},
   "source": [
    "on split notre dataset en deux parties ( un tier pour le test, et deux tiers pour training)"
   ]
  },
  {
   "cell_type": "markdown",
   "metadata": {},
   "source": [
    "# 2. Apprentissage et évaluation de modèles : Utiliser ensuite sur votre jeu de données les algorithmes d’apprentissage supervisé suivants :"
   ]
  },
  {
   "cell_type": "markdown",
   "metadata": {},
   "source": [
    "## • Un arbre CART (random_state=1)"
   ]
  },
  {
   "cell_type": "code",
   "execution_count": 6,
   "metadata": {},
   "outputs": [
    {
     "name": "stdout",
     "output_type": "stream",
     "text": [
      "L’accuracy d'un arbre CART: 71.26038781163435 %\n",
      "La precision d'un arbre CART: 79.81132075471699 %\n",
      "Le rappel d'un arbre CART: 80.80229226361033 %\n"
     ]
    }
   ],
   "source": [
    "from sklearn import tree\n",
    "clf = tree.DecisionTreeClassifier(random_state=1)\n",
    "clf = clf.fit(X_train, Y_train)\n",
    "Y_pred = clf.predict(X_test)\n",
    "from sklearn.metrics import accuracy_score\n",
    "print(\"L’accuracy d'un arbre CART:\", accuracy_score(Y_test, Y_pred)*100, \"%\")\n",
    "from sklearn.metrics import precision_score\n",
    "print(\"La precision d'un arbre CART:\", precision_score(Y_test, Y_pred)*100, \"%\")\n",
    "from sklearn.metrics import recall_score\n",
    "print(\"Le rappel d'un arbre CART:\", recall_score(Y_test, Y_pred)*100, \"%\")\n",
    "\n",
    "arbre = [accuracy_score(Y_test, Y_pred)*100, precision_score(Y_test, Y_pred)*100, recall_score(Y_test, Y_pred)*100]"
   ]
  },
  {
   "cell_type": "markdown",
   "metadata": {},
   "source": [
    "## • k-plus-proches-voisins avec k=5"
   ]
  },
  {
   "cell_type": "code",
   "execution_count": 7,
   "metadata": {},
   "outputs": [
    {
     "name": "stdout",
     "output_type": "stream",
     "text": [
      "L’accuracy d'un arbre CART: 72.02216066481995 %\n",
      "La precision d'un arbre CART: 77.03952901597981 %\n",
      "Le rappel d'un arbre CART: 87.48806112702961 %\n"
     ]
    }
   ],
   "source": [
    "from sklearn.neighbors import KNeighborsClassifier\n",
    "clf = KNeighborsClassifier(n_neighbors=5)\n",
    "clf = clf.fit(X_train, Y_train)\n",
    "Y_pred = clf.predict(X_test)\n",
    "from sklearn.metrics import accuracy_score\n",
    "print(\"L’accuracy d'un arbre CART:\", accuracy_score(Y_test, Y_pred)*100, \"%\")\n",
    "from sklearn.metrics import precision_score\n",
    "print(\"La precision d'un arbre CART:\", precision_score(Y_test, Y_pred)*100, \"%\")\n",
    "from sklearn.metrics import recall_score\n",
    "print(\"Le rappel d'un arbre CART:\", recall_score(Y_test, Y_pred)*100, \"%\")\n",
    "\n",
    "knn = [accuracy_score(Y_test, Y_pred)*100, precision_score(Y_test, Y_pred)*100, recall_score(Y_test, Y_pred)*100]"
   ]
  },
  {
   "cell_type": "markdown",
   "metadata": {},
   "source": [
    "Entre la presicion et le rappel, dans cette application de credit scoring, le presicion est le meilleur critère pour comparer les classifications. Car plus la précision est élevée, plus le faux négatif est faible, ce qui signifie que le montant des créances irrécouvrables (pertes financières) est faible pour la banque. En outre, la précision signifie la perte de client potentiel.\n",
    "\n",
    "En basant sur l'accuracy et le rappel des deux algorithmes, on peut voir que la classification d'arbre CART est préférable de détecter les bons clients et que la classification KNN est préférable de réduire le taux de fausses évaluations des mauvais emprunteurs."
   ]
  },
  {
   "cell_type": "markdown",
   "metadata": {},
   "source": [
    "# 3. Normalisation des variables continues :"
   ]
  },
  {
   "cell_type": "markdown",
   "metadata": {},
   "source": [
    "## MinMaxScaler:"
   ]
  },
  {
   "cell_type": "code",
   "execution_count": 8,
   "metadata": {},
   "outputs": [],
   "source": [
    "from sklearn.preprocessing import MinMaxScaler\n",
    "scaler = MinMaxScaler()\n",
    "scaler.fit(X)\n",
    "X_scaled = scaler.transform(X)"
   ]
  },
  {
   "cell_type": "code",
   "execution_count": 9,
   "metadata": {},
   "outputs": [],
   "source": [
    "from sklearn.model_selection import train_test_split\n",
    "X_train, X_test, Y_train, Y_test = train_test_split(X_scaled, Y, test_size=0.33, random_state=42)"
   ]
  },
  {
   "cell_type": "code",
   "execution_count": 10,
   "metadata": {},
   "outputs": [
    {
     "name": "stdout",
     "output_type": "stream",
     "text": [
      "L’accuracy d'un arbre CART: 71.26038781163435 %\n",
      "La precision d'un arbre CART: 79.86767485822305 %\n",
      "Le rappel d'un arbre CART: 80.70678127984718 %\n"
     ]
    }
   ],
   "source": [
    "from sklearn import tree\n",
    "clf = tree.DecisionTreeClassifier(random_state=1)\n",
    "clf = clf.fit(X_train, Y_train)\n",
    "Y_pred = clf.predict(X_test)\n",
    "from sklearn.metrics import accuracy_score\n",
    "print(\"L’accuracy d'un arbre CART:\", accuracy_score(Y_test, Y_pred)*100, \"%\")\n",
    "from sklearn.metrics import precision_score\n",
    "print(\"La precision d'un arbre CART:\", precision_score(Y_test, Y_pred)*100, \"%\")\n",
    "from sklearn.metrics import recall_score\n",
    "print(\"Le rappel d'un arbre CART:\", recall_score(Y_test, Y_pred)*100, \"%\")\n",
    "\n",
    "arbre_scaled = [accuracy_score(Y_test, Y_pred)*100, precision_score(Y_test, Y_pred)*100, recall_score(Y_test, Y_pred)*100]"
   ]
  },
  {
   "cell_type": "code",
   "execution_count": 11,
   "metadata": {
    "scrolled": true
   },
   "outputs": [
    {
     "name": "stdout",
     "output_type": "stream",
     "text": [
      "L’accuracy d'un arbre CART: 74.65373961218836 %\n",
      "La precision d'un arbre CART: 80.0 %\n",
      "Le rappel d'un arbre CART: 86.72397325692455 %\n"
     ]
    }
   ],
   "source": [
    "from sklearn.neighbors import KNeighborsClassifier\n",
    "clf = KNeighborsClassifier(n_neighbors=5)\n",
    "clf = clf.fit(X_train, Y_train)\n",
    "Y_pred = clf.predict(X_test)\n",
    "from sklearn.metrics import accuracy_score\n",
    "print(\"L’accuracy d'un arbre CART:\", accuracy_score(Y_test, Y_pred)*100, \"%\")\n",
    "from sklearn.metrics import precision_score\n",
    "print(\"La precision d'un arbre CART:\", precision_score(Y_test, Y_pred)*100, \"%\")\n",
    "from sklearn.metrics import recall_score\n",
    "print(\"Le rappel d'un arbre CART:\", recall_score(Y_test, Y_pred)*100, \"%\")\n",
    "\n",
    "knn_scaled = [accuracy_score(Y_test, Y_pred)*100, precision_score(Y_test, Y_pred)*100, recall_score(Y_test, Y_pred)*100]"
   ]
  },
  {
   "cell_type": "code",
   "execution_count": 12,
   "metadata": {},
   "outputs": [
    {
     "data": {
      "text/html": [
       "<div>\n",
       "<style scoped>\n",
       "    .dataframe tbody tr th:only-of-type {\n",
       "        vertical-align: middle;\n",
       "    }\n",
       "\n",
       "    .dataframe tbody tr th {\n",
       "        vertical-align: top;\n",
       "    }\n",
       "\n",
       "    .dataframe thead th {\n",
       "        text-align: right;\n",
       "    }\n",
       "</style>\n",
       "<table border=\"1\" class=\"dataframe\">\n",
       "  <thead>\n",
       "    <tr style=\"text-align: right;\">\n",
       "      <th></th>\n",
       "      <th></th>\n",
       "      <th>KNN</th>\n",
       "      <th>KNN normalisé</th>\n",
       "      <th>arbre</th>\n",
       "      <th>arbre normalisé</th>\n",
       "    </tr>\n",
       "  </thead>\n",
       "  <tbody>\n",
       "    <tr>\n",
       "      <th>0</th>\n",
       "      <td>Accuracy</td>\n",
       "      <td>72.022161</td>\n",
       "      <td>74.653740</td>\n",
       "      <td>71.260388</td>\n",
       "      <td>71.260388</td>\n",
       "    </tr>\n",
       "    <tr>\n",
       "      <th>1</th>\n",
       "      <td>Precision</td>\n",
       "      <td>77.039529</td>\n",
       "      <td>80.000000</td>\n",
       "      <td>79.811321</td>\n",
       "      <td>79.867675</td>\n",
       "    </tr>\n",
       "    <tr>\n",
       "      <th>2</th>\n",
       "      <td>Rappel</td>\n",
       "      <td>87.488061</td>\n",
       "      <td>86.723973</td>\n",
       "      <td>80.802292</td>\n",
       "      <td>80.706781</td>\n",
       "    </tr>\n",
       "  </tbody>\n",
       "</table>\n",
       "</div>"
      ],
      "text/plain": [
       "                    KNN  KNN normalisé      arbre  arbre normalisé\n",
       "0   Accuracy  72.022161      74.653740  71.260388        71.260388\n",
       "1  Precision  77.039529      80.000000  79.811321        79.867675\n",
       "2     Rappel  87.488061      86.723973  80.802292        80.706781"
      ]
     },
     "execution_count": 12,
     "metadata": {},
     "output_type": "execute_result"
    }
   ],
   "source": [
    "d={'':['Accuracy','Precision','Rappel'], 'arbre':arbre,'KNN':knn,'arbre normalisé':arbre_scaled,'KNN normalisé':knn_scaled}\n",
    "df = pd.DataFrame(data=d)\n",
    "df.reindex_axis(sorted(df.columns), axis=1)"
   ]
  },
  {
   "cell_type": "markdown",
   "metadata": {},
   "source": [
    "# à conclure: chung ta làm table r KL"
   ]
  },
  {
   "cell_type": "markdown",
   "metadata": {},
   "source": [
    "# 4. Création de nouvelles variables caractéristiques par combinaisons linéaires des variables initiales :"
   ]
  },
  {
   "cell_type": "code",
   "execution_count": 13,
   "metadata": {},
   "outputs": [],
   "source": [
    "from sklearn.decomposition import PCA\n",
    "pca = PCA()\n",
    "pca.fit(X_scaled)\n",
    "X_pca = pca.transform(X_scaled)\n",
    "X_pca = np.concatenate((X_scaled, X_pca), axis=1)"
   ]
  },
  {
   "cell_type": "code",
   "execution_count": 14,
   "metadata": {},
   "outputs": [],
   "source": [
    "from sklearn.model_selection import train_test_split\n",
    "X_train, X_test, Y_train, Y_test = train_test_split(X_pca, Y, test_size=0.33, random_state=42)"
   ]
  },
  {
   "cell_type": "code",
   "execution_count": 15,
   "metadata": {},
   "outputs": [
    {
     "name": "stdout",
     "output_type": "stream",
     "text": [
      "L’accuracy d'un arbre CART: 71.81440443213296 %\n",
      "La precision d'un arbre CART: 80.01876172607881 %\n",
      "Le rappel d'un arbre CART: 81.47086914995224 %\n"
     ]
    }
   ],
   "source": [
    "from sklearn import tree\n",
    "clf = tree.DecisionTreeClassifier(random_state=1)\n",
    "clf = clf.fit(X_train, Y_train)\n",
    "Y_pred = clf.predict(X_test)\n",
    "from sklearn.metrics import accuracy_score\n",
    "print(\"L’accuracy d'un arbre CART:\", accuracy_score(Y_test, Y_pred)*100, \"%\")\n",
    "from sklearn.metrics import precision_score\n",
    "print(\"La precision d'un arbre CART:\", precision_score(Y_test, Y_pred)*100, \"%\")\n",
    "from sklearn.metrics import recall_score\n",
    "print(\"Le rappel d'un arbre CART:\", recall_score(Y_test, Y_pred)*100, \"%\")\n",
    "\n",
    "arbre_pca = [accuracy_score(Y_test, Y_pred)*100, precision_score(Y_test, Y_pred)*100, recall_score(Y_test, Y_pred)*100]"
   ]
  },
  {
   "cell_type": "code",
   "execution_count": 16,
   "metadata": {
    "scrolled": true
   },
   "outputs": [
    {
     "name": "stdout",
     "output_type": "stream",
     "text": [
      "L’accuracy d'un arbre CART: 74.65373961218836 %\n",
      "La precision d'un arbre CART: 80.0 %\n",
      "Le rappel d'un arbre CART: 86.72397325692455 %\n"
     ]
    }
   ],
   "source": [
    "from sklearn.neighbors import KNeighborsClassifier\n",
    "clf = KNeighborsClassifier(n_neighbors=5)\n",
    "clf = clf.fit(X_train, Y_train)\n",
    "Y_pred = clf.predict(X_test)\n",
    "from sklearn.metrics import accuracy_score\n",
    "print(\"L’accuracy d'un arbre CART:\", accuracy_score(Y_test, Y_pred)*100, \"%\")\n",
    "from sklearn.metrics import precision_score\n",
    "print(\"La precision d'un arbre CART:\", precision_score(Y_test, Y_pred)*100, \"%\")\n",
    "from sklearn.metrics import recall_score\n",
    "print(\"Le rappel d'un arbre CART:\", recall_score(Y_test, Y_pred)*100, \"%\")\n",
    "\n",
    "knn_pca = [accuracy_score(Y_test, Y_pred)*100, precision_score(Y_test, Y_pred)*100, recall_score(Y_test, Y_pred)*100]"
   ]
  },
  {
   "cell_type": "code",
   "execution_count": 17,
   "metadata": {},
   "outputs": [
    {
     "data": {
      "text/html": [
       "<div>\n",
       "<style scoped>\n",
       "    .dataframe tbody tr th:only-of-type {\n",
       "        vertical-align: middle;\n",
       "    }\n",
       "\n",
       "    .dataframe tbody tr th {\n",
       "        vertical-align: top;\n",
       "    }\n",
       "\n",
       "    .dataframe thead th {\n",
       "        text-align: right;\n",
       "    }\n",
       "</style>\n",
       "<table border=\"1\" class=\"dataframe\">\n",
       "  <thead>\n",
       "    <tr style=\"text-align: right;\">\n",
       "      <th></th>\n",
       "      <th></th>\n",
       "      <th>KNN</th>\n",
       "      <th>KNN normalisé</th>\n",
       "      <th>KNN pca</th>\n",
       "      <th>arbre</th>\n",
       "      <th>arbre normalisé</th>\n",
       "      <th>arbre pca</th>\n",
       "    </tr>\n",
       "  </thead>\n",
       "  <tbody>\n",
       "    <tr>\n",
       "      <th>0</th>\n",
       "      <td>Accuracy</td>\n",
       "      <td>72.022161</td>\n",
       "      <td>74.653740</td>\n",
       "      <td>74.653740</td>\n",
       "      <td>71.260388</td>\n",
       "      <td>71.260388</td>\n",
       "      <td>71.814404</td>\n",
       "    </tr>\n",
       "    <tr>\n",
       "      <th>1</th>\n",
       "      <td>Precision</td>\n",
       "      <td>77.039529</td>\n",
       "      <td>80.000000</td>\n",
       "      <td>80.000000</td>\n",
       "      <td>79.811321</td>\n",
       "      <td>79.867675</td>\n",
       "      <td>80.018762</td>\n",
       "    </tr>\n",
       "    <tr>\n",
       "      <th>2</th>\n",
       "      <td>Rappel</td>\n",
       "      <td>87.488061</td>\n",
       "      <td>86.723973</td>\n",
       "      <td>86.723973</td>\n",
       "      <td>80.802292</td>\n",
       "      <td>80.706781</td>\n",
       "      <td>81.470869</td>\n",
       "    </tr>\n",
       "  </tbody>\n",
       "</table>\n",
       "</div>"
      ],
      "text/plain": [
       "                    KNN  KNN normalisé    KNN pca      arbre  arbre normalisé  \\\n",
       "0   Accuracy  72.022161      74.653740  74.653740  71.260388        71.260388   \n",
       "1  Precision  77.039529      80.000000  80.000000  79.811321        79.867675   \n",
       "2     Rappel  87.488061      86.723973  86.723973  80.802292        80.706781   \n",
       "\n",
       "   arbre pca  \n",
       "0  71.814404  \n",
       "1  80.018762  \n",
       "2  81.470869  "
      ]
     },
     "execution_count": 17,
     "metadata": {},
     "output_type": "execute_result"
    }
   ],
   "source": [
    "df['arbre pca'] = arbre_pca\n",
    "df['KNN pca'] = knn_pca\n",
    "df.reindex_axis(sorted(df.columns), axis=1)"
   ]
  },
  {
   "cell_type": "markdown",
   "metadata": {},
   "source": [
    "# 5. Sélection de variables :"
   ]
  },
  {
   "cell_type": "code",
   "execution_count": 18,
   "metadata": {},
   "outputs": [
    {
     "name": "stderr",
     "output_type": "stream",
     "text": [
      "E:\\anaconda\\lib\\site-packages\\sklearn\\ensemble\\weight_boosting.py:29: DeprecationWarning: numpy.core.umath_tests is an internal NumPy module and should not be imported. It will be removed in a future NumPy release.\n",
      "  from numpy.core.umath_tests import inner1d\n"
     ]
    },
    {
     "name": "stdout",
     "output_type": "stream",
     "text": [
      "['Income' 'Price' 'Seniority' 'Amount' 'Age' 'Assets' 'Expenses' 'Records'\n",
      " 'Time' 'Job' 'Debt' 'Home' 'Marital']\n"
     ]
    },
    {
     "data": {
      "image/png": "[encoded data removed]",
      "text/plain": [
       "<Figure size 432x288 with 1 Axes>"
      ]
     },
     "metadata": {
      "needs_background": "light"
     },
     "output_type": "display_data"
    }
   ],
   "source": [
    "from sklearn.preprocessing import MinMaxScaler\n",
    "scaler = MinMaxScaler()\n",
    "scaler.fit(X)\n",
    "X_scaled = scaler.transform(X)\n",
    "from sklearn.model_selection import train_test_split\n",
    "X_train, X_test, Y_train, Y_test = train_test_split(X_scaled, Y, test_size=0.33, random_state=42)\n",
    "from sklearn.ensemble import RandomForestClassifier\n",
    "\n",
    "from numpy.core.umath_tests import inner1d\n",
    "clf = RandomForestClassifier(n_estimators=100)\n",
    "clf.fit(X_scaled, Y)\n",
    "importances=clf.feature_importances_\n",
    "std = np.std([tree.feature_importances_ for tree in clf.estimators_],axis=0)\n",
    "sorted_idx = np.argsort(importances)[::-1]\n",
    "features = np.asarray(list(data_df))\n",
    "print(features[sorted_idx])\n",
    "padding = np.arange(X_train.size/len(X_train)) + 0.5\n",
    "plt.barh(padding, importances[sorted_idx],xerr=std[sorted_idx], align='center')\n",
    "plt.yticks(padding, features[sorted_idx])\n",
    "plt.xlabel(\"Relative Importance\")\n",
    "plt.title(\"Variable Importance\")\n",
    "plt.show()"
   ]
  },
  {
   "cell_type": "code",
   "execution_count": 19,
   "metadata": {
    "scrolled": true
   },
   "outputs": [
    {
     "data": {
      "image/png": "[encoded data removed]",
      "text/plain": [
       "<Figure size 432x288 with 1 Axes>"
      ]
     },
     "metadata": {
      "needs_background": "light"
     },
     "output_type": "display_data"
    }
   ],
   "source": [
    "KNN=KNeighborsClassifier(n_neighbors=5)\n",
    "scores=np.zeros(X_train.shape[1]+1)\n",
    "for f in np.arange(0, X_train.shape[1]+1):\n",
    "    X1_f = X_train[:,sorted_idx[:f+1]]\n",
    "    X2_f = X_test[:,sorted_idx[:f+1]]\n",
    "    KNN.fit(X1_f,Y_train)\n",
    "    YKNN=KNN.predict(X2_f)\n",
    "    scores[f]=np.round(accuracy_score(Y_test,YKNN),3)\n",
    "plt.plot(scores)\n",
    "plt.xlabel(\"Nombre de Variables\")\n",
    "plt.ylabel(\"Accuracy\")\n",
    "plt.title(\"Evolution de l'accuracy en fonction des variables\")\n",
    "plt.show()"
   ]
  },
  {
   "cell_type": "markdown",
   "metadata": {},
   "source": [
    "# 6. Paramétrage des classifieurs : "
   ]
  },
  {
   "cell_type": "markdown",
   "metadata": {},
   "source": [
    "## Tuner les paramètres algorithmes k-plus proches voisins\n",
    "Le principe des méthodes du k-plus proches voisins est de trouver un nombre k prédéfini d’échantillons d’entraînement le plus proche en distance du nouveau point. En général, un plus grand K supprime les effets du bruit, mais rend les limites de la classification moins distinctes. On va tuner cet paramètres K( n_neighbors)."
   ]
  },
  {
   "cell_type": "code",
   "execution_count": 20,
   "metadata": {},
   "outputs": [],
   "source": [
    "from sklearn.model_selection import GridSearchCV\n",
    "from sklearn.metrics import classification_report\n",
    "df1 = data_df.iloc[:,0:13] \n",
    "k = np.arange(30)+1\n",
    "parameters = {'n_neighbors': k}\n",
    "scores = ['precision', 'recall']\n"
   ]
  },
  {
   "cell_type": "code",
   "execution_count": null,
   "metadata": {},
   "outputs": [
    {
     "name": "stdout",
     "output_type": "stream",
     "text": [
      "# Tuning hyper-parameters for precision\n"
     ]
    }
   ],
   "source": [
    "for score in scores:\n",
    "    print(\"# Tuning hyper-parameters for %s\" % score)\n",
    "    clf = GridSearchCV(KNN, parameters, cv=10, scoring='%s_macro' % score)\n",
    "    clf.fit(X_train, Y_train)\n",
    "    print(\"Best parameters set found on development set:\")\n",
    "    print(clf.best_params_)\n",
    "    print(\"Grid scores on development set:\")\n",
    "    means = clf.cv_results_['mean_test_score']\n",
    "    stds = clf.cv_results_['std_test_score']\n",
    "    for mean, std, params in zip(means, stds, clf.cv_results_['params']):\n",
    "        print(\"%0.3f (+/-%0.03f) for %r\"\n",
    "              % (mean, std * 2, params))\n",
    "    print(\"Detailed classification report:\")\n",
    "    print(\"The model is trained on the full development set.\")\n",
    "    print(\"The scores are computed on the full evaluation set.\")\n",
    "    y_true, y_pred = Y_test, clf.predict(X_test)\n",
    "    print(classification_report(y_true, y_pred))"
   ]
  },
  {
   "cell_type": "markdown",
   "metadata": {},
   "source": [
    "## Tuner les paramètres algorithmes Arbre de décision, \n",
    "Arbre de décision répété plusieurs fois à l'aide de sélections aléatoires de caractéristiques et d'échantillons (technique similaire utilisée dans des forêts aléatoires). Le paramètre random_state du fonction Arbre de décision permet de contrôler ces choix aléatoires. On va tuner cet paramètres."
   ]
  },
  {
   "cell_type": "code",
   "execution_count": null,
   "metadata": {},
   "outputs": [],
   "source": [
    "from sklearn.model_selection import GridSearchCV\n",
    "from sklearn.metrics import classification_report\n",
    "from sklearn import tree\n",
    "DTC = tree.DecisionTreeClassifier(random_state=1)\n",
    "df1 = data_df.iloc[:,0:13] \n",
    "k = np.arange(40)+1\n",
    "parameters_DTC = {'random_state': k}\n",
    "scores = ['precision', 'recall']"
   ]
  },
  {
   "cell_type": "code",
   "execution_count": null,
   "metadata": {},
   "outputs": [],
   "source": [
    "for score in scores:\n",
    "    print(\"# Tuning hyper-parameters for %s\" % score)\n",
    "    clf = GridSearchCV(DTC, parameters_DTC, cv=10, scoring='%s_macro' % score)\n",
    "    clf.fit(X_train, Y_train)\n",
    "    print(\"Best parameters set found on development set:\")\n",
    "    print(clf.best_params_)\n",
    "    print(\"Grid scores on development set:\")\n",
    "    means = clf.cv_results_['mean_test_score']\n",
    "    stds = clf.cv_results_['std_test_score']\n",
    "    for mean, std, params in zip(means, stds, clf.cv_results_['params']):\n",
    "        print(\"%0.3f (+/-%0.03f) for %r\"\n",
    "              % (mean, std * 2, params))\n",
    "    print(\"Detailed classification report:\")\n",
    "    print(\"The model is trained on the full development set.\")\n",
    "    print(\"The scores are computed on the full evaluation set.\")\n",
    "    y_true, y_pred = Y_test, clf.predict(X_test)\n",
    "    print(classification_report(y_true, y_pred))"
   ]
  },
  {
   "cell_type": "markdown",
   "metadata": {},
   "source": [
    "## 7. Création d’un pipeline"
   ]
  },
  {
   "cell_type": "markdown",
   "metadata": {},
   "source": [
    "On cree une pipeline avec 2 methode Normalisation(Standard et Min max), ACP et 2 methode de classfication KNN et decisiontree"
   ]
  },
  {
   "cell_type": "code",
   "execution_count": null,
   "metadata": {},
   "outputs": [],
   "source": [
    "from sklearn.preprocessing import StandardScaler\n",
    "from sklearn.decomposition import PCA\n",
    "from sklearn.pipeline import Pipeline\n",
    "\n",
    "pipe_lr = Pipeline([('scl', StandardScaler()),\n",
    "                    ('pca', PCA()),\n",
    "                    ('clf', KNeighborsClassifier(n_neighbors=5))\n",
    "                   ])\n",
    "\n",
    "pipe_lr.fit(X_train, Y_train)\n",
    "'KNeighborsClassification Accuracy: %.3f' % pipe_lr.score(X_test, Y_test) \n"
   ]
  },
  {
   "cell_type": "code",
   "execution_count": null,
   "metadata": {},
   "outputs": [],
   "source": [
    "from sklearn.preprocessing import StandardScaler\n",
    "from sklearn.decomposition import PCA\n",
    "from sklearn import tree\n",
    "from sklearn.pipeline import Pipeline\n",
    "\n",
    "pipe_lr = Pipeline([('scl', StandardScaler()),\n",
    "                    ('pca', PCA()),\n",
    "                    ('clf', tree.DecisionTreeClassifier(random_state=1))\n",
    "                   ])\n",
    "\n",
    "pipe_lr.fit(X_train, Y_train)\n",
    "'DecisionTreeClassifier Accuracy: %.3f' % pipe_lr.score(X_test, Y_test) "
   ]
  },
  {
   "cell_type": "code",
   "execution_count": null,
   "metadata": {},
   "outputs": [],
   "source": [
    "from sklearn.preprocessing import StandardScaler\n",
    "from sklearn.decomposition import PCA\n",
    "from sklearn.pipeline import Pipeline\n",
    "\n",
    "pipe_lr = Pipeline([('scl', MinMaxScaler()),\n",
    "                    ('pca', PCA()),\n",
    "                    ('clf', KNeighborsClassifier(n_neighbors=5))\n",
    "                   ])\n",
    "\n",
    "pipe_lr.fit(X_train, Y_train)\n",
    "'KNeighborsClassification Accuracy: %.3f' % pipe_lr.score(X_test, Y_test) "
   ]
  },
  {
   "cell_type": "code",
   "execution_count": null,
   "metadata": {},
   "outputs": [],
   "source": [
    "from sklearn.preprocessing import StandardScaler\n",
    "from sklearn.decomposition import PCA\n",
    "from sklearn import tree\n",
    "from sklearn.pipeline import Pipeline\n",
    "\n",
    "pipe_lr = Pipeline([('scl', MinMaxScaler()),\n",
    "                    ('pca', PCA()),\n",
    "                    ('clf', tree.DecisionTreeClassifier(random_state=1))\n",
    "                   ])\n",
    "\n",
    "pipe_lr.fit(X_train, Y_train)\n",
    "'DecisionTreeClassifier Accuracy: %.3f' % pipe_lr.score(X_test, Y_test) "
   ]
  },
  {
   "cell_type": "markdown",
   "metadata": {},
   "source": [
    "## 8. Comparaison de plusieurs algorithmes d’apprentissage :"
   ]
  },
  {
   "cell_type": "markdown",
   "metadata": {},
   "source": [
    "La documentation indique que scikit-learn utilise une version optimisée de l'algorithme CART. On ne peut pas donc probablement pas utiliser arbre ID3 \n",
    "http://scikit-learn.org/stable/modules/tree.html#tree-algorithms-id3-c4-5-c5-0-and-cart"
   ]
  },
  {
   "cell_type": "code",
   "execution_count": null,
   "metadata": {},
   "outputs": [],
   "source": [
    "data = data_df.values\n",
    "#  variables caractéristiques \n",
    "X = data[:,0:13]\n",
    "#  variable à prédire\n",
    "Y = data[:,13]\n",
    "\n",
    "from sklearn.model_selection import train_test_split\n",
    "X_train, X_test, Y_train, Y_test = train_test_split(X, Y, test_size=0.33, random_state=42)"
   ]
  },
  {
   "cell_type": "code",
   "execution_count": null,
   "metadata": {},
   "outputs": [],
   "source": [
    "from sklearn.naive_bayes import GaussianNB\n",
    "from sklearn.tree import DecisionTreeClassifier\n",
    "from sklearn.neural_network import MLPClassifier\n",
    "from sklearn.ensemble import BaggingClassifier\n",
    "from sklearn.ensemble import AdaBoostClassifier\n",
    "from sklearn.model_selection import KFold\n",
    "from sklearn.model_selection import cross_val_score\n",
    "from sklearn.metrics import roc_auc_score\n",
    "from matplotlib import pyplot as plt\n",
    "\n",
    "clfs = {\n",
    "'RF': RandomForestClassifier(n_estimators=50),\n",
    "'KNN': KNeighborsClassifier(n_neighbors=5),\n",
    "'NBS':GaussianNB(),\n",
    "'MLP':MLPClassifier(solver='lbfgs', alpha=1e-5,hidden_layer_sizes=(20, 10), random_state=1), ## MultilayerPerceptron à deux couches de tailles respectives 20 et 10\n",
    "'DT':DecisionTreeClassifier(random_state=1), \n",
    "'Bagging': BaggingClassifier(n_estimators=50),\n",
    "'Adaboost': AdaBoostClassifier(n_estimators=50, random_state=1)\n",
    "}\n",
    "kf = KFold(n_splits=10, shuffle=True, random_state=0)\n",
    "for i in clfs:\n",
    "    clf = clfs[i]\n",
    "    cv_acc = cross_val_score(clf, X, Y, cv=kf)\n",
    "    print(\"Accuracy for {0} is: {1:.3f} +/- {2:.3f}\".format(i, np.mean(cv_acc), np.std(cv_acc)))\n",
    "    clf.fit(X_train, Y_train)\n",
    "    Y_predict = clf.predict(X_test)\n",
    "    print(\"AUC (Aire sous la courbe ROC) :\", roc_auc_score( Y_test, Y_predict))\n",
    "    "
   ]
  },
  {
   "cell_type": "markdown",
   "metadata": {},
   "source": [
    "## l’estimation aussi par 5 fold cross-validation du critère precision qu'on semble le plus pertinent entre le rappel et precision"
   ]
  },
  {
   "cell_type": "code",
   "execution_count": null,
   "metadata": {},
   "outputs": [],
   "source": [
    "import time\n",
    "kf = KFold(n_splits=5, shuffle=True, random_state=0)\n",
    "for i in clfs:\n",
    "    clf = clfs[i]\n",
    "    cv_acc = cross_val_score(clf, X, Y, cv=kf, scoring=\"precision\")\n",
    "    start_time = time.time()\n",
    "    print(\"Precision for {0} is: {1:.3f} +/- {2:.3f}\".format(i, np.mean(cv_acc), np.std(cv_acc)))\n",
    "    clf.fit(X_train, Y_train)\n",
    "    Y_predict = clf.predict(X_test)\n",
    "    print(\"La precision: \", precision_score(Y_test, Y_predict)*100, \"%\")\n",
    "    print(\"Time d'execution: %s seconds ---\" % (time.time() - start_time))\n",
    "    "
   ]
  },
  {
   "cell_type": "markdown",
   "metadata": {},
   "source": [
    "## Fonction run_classifiers qui permettra de lancer la comparaison des algorithmes de classification supervisée et qui prendra en paramètre un dictionnaire clfs, le tableau de données caractéristiques X et la target Y. (c.f. def)"
   ]
  },
  {
   "cell_type": "code",
   "execution_count": null,
   "metadata": {},
   "outputs": [],
   "source": [
    "def run_classifiers(clfs, X , Y):\n",
    "    import time\n",
    "    kf = KFold(n_splits=5, shuffle=True, random_state=0)\n",
    "    for i in clfs:\n",
    "        clf = clfs[i]\n",
    "        cv_acc = cross_val_score(clf, X, Y, cv=kf)\n",
    "        start_time = time.time()\n",
    "        print(\"Accuracy for {0} is: {1:.3f} +/- {2:.3f}\".format(i, np.mean(cv_acc), np.std(cv_acc)))\n",
    "        clf.fit(X_train, Y_train)\n",
    "        Y_predict = clf.predict(X_test)\n",
    "        print(\"La precision: \", precision_score(Y_test, Y_predict)*100, \"%\")\n",
    "        print(\"Time d'execution: %s seconds ---\" % (time.time() - start_time))\n",
    "clfs1 = {\n",
    "'Bagging': BaggingClassifier(n_estimators=50),\n",
    "'Adaboost': AdaBoostClassifier(n_estimators=50, random_state=1)\n",
    "}\n",
    "\n",
    "run_classifiers(clfs1, X,Y)"
   ]
  },
  {
   "cell_type": "markdown",
   "metadata": {},
   "source": [
    "## II. Apprentissage supervisé : Données hétérogènes"
   ]
  },
  {
   "cell_type": "markdown",
   "metadata": {},
   "source": [
    "#Chargement des données et préparation :"
   ]
  },
  {
   "cell_type": "code",
   "execution_count": null,
   "metadata": {},
   "outputs": [],
   "source": [
    "import numpy as np\n",
    "import pandas as pd\n",
    "\n",
    "#creer nom_collone suivre attribute information https://archive.ics.uci.edu/ml/datasets/Credit+Approval\n",
    "nom_collone= []\n",
    "\n",
    "for i in range(1,17):\n",
    "   nom_collone.append(\"A\" + str(i))\n",
    "\n",
    "data_df = pd.read_csv('./credit.data', sep='\\t' , names = nom_collone)\n",
    "#numpy array values\n",
    "data = data_df.values"
   ]
  },
  {
   "cell_type": "code",
   "execution_count": null,
   "metadata": {},
   "outputs": [],
   "source": [
    "data_df_sous = data_df.select_dtypes([np.number])                                    \n",
    "data_df_sous = data_df_sous.replace('?', np.NaN)\n",
    "data_df_sous"
   ]
  },
  {
   "cell_type": "code",
   "execution_count": null,
   "metadata": {},
   "outputs": [],
   "source": [
    "#Supprimer les individus dans vos données contenant des nan sur au moins une variable.\n",
    "data_df_sous = data_df_sous.dropna()\n",
    "data_df_sous"
   ]
  },
  {
   "cell_type": "code",
   "execution_count": null,
   "metadata": {},
   "outputs": [],
   "source": [
    "data_df_sous = data_df_sous.astype(float)\n",
    "data_df_sous.dtypes"
   ]
  },
  {
   "cell_type": "code",
   "execution_count": null,
   "metadata": {},
   "outputs": [],
   "source": [
    "data_df_sous.shape"
   ]
  },
  {
   "cell_type": "code",
   "execution_count": null,
   "metadata": {},
   "outputs": [],
   "source": [
    "data_df_sous.hist"
   ]
  },
  {
   "cell_type": "code",
   "execution_count": null,
   "metadata": {},
   "outputs": [],
   "source": [
    "\n",
    "from sklearn.metrics import auc\n",
    "def run_classifiers(clfs, X , Y):\n",
    "    import time\n",
    "    kf = KFold(n_splits=5, shuffle=True, random_state=0)\n",
    "    for i in clfs:\n",
    "        clf = clfs[i]\n",
    "        cv_acc = cross_val_score(clf, X, Y, cv=kf)\n",
    "        start_time = time.time()\n",
    "        print(\"Accuracy for {0} is: {1:.3f} +/- {2:.3f}\".format(i, np.mean(cv_acc), np.std(cv_acc)))\n",
    "        clf.fit(X_train, Y_train)\n",
    "        Y_predict = clf.predict(X_test)\n",
    "        print(\"La precision: \", precision_score(Y_test, Y_predict)*100, \"%\")\n",
    "        print(\"L'AUC: \", auc(Y_test, Y_predict)*100, \"%\") #AUC\n",
    "        print(\"Time d'execution: %s seconds ---\" % (time.time() - start_time))\n",
    "        \n"
   ]
  },
  {
   "cell_type": "code",
   "execution_count": null,
   "metadata": {},
   "outputs": [],
   "source": [
    "X = data_df_sous[:,0:14]\n",
    "#  variable à prédire\n",
    "Y = data_df_sous[:,15]\n",
    "\n",
    "from sklearn.preprocessing import MinMaxScaler\n",
    "scaler = MinMaxScaler()\n",
    "scaler.fit(X)\n",
    "X_MinMax = scaler.transform(X)\n",
    "\n",
    "from sklearn.preprocessing import StandardScaler \n",
    "scaler = StandardScaler ()\n",
    "scaler.fit(X)\n",
    "X_Standard = scaler.transform(X)\n",
    "\n",
    "from sklearn.model_selection import train_test_split\n",
    "X_train, X_test, Y_train, Y_test = train_test_split(X_Standard, Y, test_size=0.33, random_state=42)\n",
    "\n"
   ]
  },
  {
   "cell_type": "code",
   "execution_count": null,
   "metadata": {},
   "outputs": [],
   "source": [
    "clfs1 = {\n",
    "'Bagging': BaggingClassifier(n_estimators=50),\n",
    "'Adaboost': AdaBoostClassifier(n_estimators=50, random_state=1)\n",
    "}\n",
    "run_classifiers"
   ]
  }
 ],
 "metadata": {
  "kernelspec": {
   "display_name": "Python 3",
   "language": "python",
   "name": "python3"
  },
  "language_info": {
   "codemirror_mode": {
    "name": "ipython",
    "version": 3
   },
   "file_extension": ".py",
   "mimetype": "text/x-python",
   "name": "python",
   "nbconvert_exporter": "python",
   "pygments_lexer": "ipython3",
   "version": "3.7.0"
  }
 },
 "nbformat": 4,
 "nbformat_minor": 2
}
