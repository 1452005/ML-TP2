{
 "cells": [
  {
   "cell_type": "markdown",
   "metadata": {},
   "source": [
    "Créer un nouveau notebook Python et taper le code suivant dans une nouvelle cellule :"
   ]
  },
  {
   "cell_type": "code",
   "execution_count": 1,
   "metadata": {},
   "outputs": [],
   "source": [
    "import numpy as np\n",
    "np.set_printoptions(threshold=np.nan,suppress=True)\n",
    "import pandas as pd\n",
    "import warnings\n",
    "import matplotlib.pyplot as plt\n",
    "warnings.filterwarnings('ignore')"
   ]
  },
  {
   "cell_type": "markdown",
   "metadata": {},
   "source": [
    "# 1. Chargement des données et préparation : Dans un premier temps nous allons importer le jeu de données et analyser ses caractéristiques"
   ]
  },
  {
   "cell_type": "markdown",
   "metadata": {},
   "source": [
    "## • Importer ce jeu de données avec la librairie pandas (c.f. read_csv)\n",
    "\n",
    "## • Transformer votre jeu de données issue de pandas qui sera de type Data Frame en numpy Array (c.f. values) et séparer ensuite les variables caractéristiques de la variable à prédire (status) en deux tableaux différents."
   ]
  },
  {
   "cell_type": "code",
   "execution_count": 2,
   "metadata": {},
   "outputs": [],
   "source": [
    "data_df = pd.read_csv('./credit_scoring.csv', sep=';')\n",
    "data = data_df.values\n",
    "#  variables caractéristiques \n",
    "X = data[:,0:13]\n",
    "#  variable à prédire\n",
    "Y = data[:,13]"
   ]
  },
  {
   "cell_type": "markdown",
   "metadata": {},
   "source": [
    "## • Analyser les propriétés de vos données : taille de l’échantillon (c.f. shape), nombre d’exemples positifs et négatifs (c.f. hist)."
   ]
  },
  {
   "cell_type": "code",
   "execution_count": 3,
   "metadata": {},
   "outputs": [
    {
     "data": {
      "text/plain": [
       "(4375, 14)"
      ]
     },
     "execution_count": 3,
     "metadata": {},
     "output_type": "execute_result"
    }
   ],
   "source": [
    "data.shape"
   ]
  },
  {
   "cell_type": "markdown",
   "metadata": {},
   "source": [
    "On a 4375 observations dans notre l’échantillon et 14 colonnes (c.à.d 13 variables caractéristiques + 1 variable à prédire)"
   ]
  },
  {
   "cell_type": "code",
   "execution_count": 4,
   "metadata": {},
   "outputs": [
    {
     "data": {
      "text/plain": [
       "array([[<matplotlib.axes._subplots.AxesSubplot object at 0x000001D46EDD9B38>,\n",
       "        <matplotlib.axes._subplots.AxesSubplot object at 0x000001D46F151080>,\n",
       "        <matplotlib.axes._subplots.AxesSubplot object at 0x000001D46F17B710>,\n",
       "        <matplotlib.axes._subplots.AxesSubplot object at 0x000001D46F1A2DA0>],\n",
       "       [<matplotlib.axes._subplots.AxesSubplot object at 0x000001D46F1D3470>,\n",
       "        <matplotlib.axes._subplots.AxesSubplot object at 0x000001D46F1D34A8>,\n",
       "        <matplotlib.axes._subplots.AxesSubplot object at 0x000001D46F22C1D0>,\n",
       "        <matplotlib.axes._subplots.AxesSubplot object at 0x000001D46F252860>],\n",
       "       [<matplotlib.axes._subplots.AxesSubplot object at 0x000001D46F27BEF0>,\n",
       "        <matplotlib.axes._subplots.AxesSubplot object at 0x000001D46F2AC5C0>,\n",
       "        <matplotlib.axes._subplots.AxesSubplot object at 0x000001D46F2D3C50>,\n",
       "        <matplotlib.axes._subplots.AxesSubplot object at 0x000001D46F304320>],\n",
       "       [<matplotlib.axes._subplots.AxesSubplot object at 0x000001D46F32C9B0>,\n",
       "        <matplotlib.axes._subplots.AxesSubplot object at 0x000001D46F35E080>,\n",
       "        <matplotlib.axes._subplots.AxesSubplot object at 0x000001D46F384710>,\n",
       "        <matplotlib.axes._subplots.AxesSubplot object at 0x000001D46F3AEDA0>]],\n",
       "      dtype=object)"
      ]
     },
     "execution_count": 4,
     "metadata": {},
     "output_type": "execute_result"
    },
    {
     "data": {
      "image/png": "[encoded data removed]",
      "text/plain": [
       "<Figure size 432x288 with 16 Axes>"
      ]
     },
     "metadata": {},
     "output_type": "display_data"
    }
   ],
   "source": [
    "data_df.hist(bins = 2)"
   ]
  },
  {
   "cell_type": "markdown",
   "metadata": {},
   "source": [
    "## • Pour éviter d’avoir un résultat biaisé du classifieur que nous allons construire, séparer les données en deux partie une dite d’apprentissage qui servira à l’apprentissage du classifieur et l’autre dite de test qui servira à son évaluation (c.f. train_test_split)."
   ]
  },
  {
   "cell_type": "code",
   "execution_count": 5,
   "metadata": {},
   "outputs": [],
   "source": [
    "from sklearn.model_selection import train_test_split\n",
    "X_train, X_test, Y_train, Y_test = train_test_split(X, Y, test_size=0.33, random_state=42)"
   ]
  },
  {
   "cell_type": "markdown",
   "metadata": {},
   "source": [
    "on split notre dataset en deux parties ( un tier pour le test, et deux tiers pour training)"
   ]
  },
  {
   "cell_type": "markdown",
   "metadata": {},
   "source": [
    "# 2. Apprentissage et évaluation de modèles : Utiliser ensuite sur votre jeu de données les algorithmes d’apprentissage supervisé suivants :"
   ]
  },
  {
   "cell_type": "markdown",
   "metadata": {},
   "source": [
    "## • Un arbre CART (random_state=1)"
   ]
  },
  {
   "cell_type": "code",
   "execution_count": 6,
   "metadata": {},
   "outputs": [
    {
     "name": "stdout",
     "output_type": "stream",
     "text": [
      "L’accuracy d'un arbre CART: 71.26038781163435 %\n",
      "La precision d'un arbre CART: 79.81132075471699 %\n",
      "Le rappel d'un arbre CART: 80.80229226361033 %\n"
     ]
    }
   ],
   "source": [
    "from sklearn import tree\n",
    "clf = tree.DecisionTreeClassifier(random_state=1)\n",
    "clf = clf.fit(X_train, Y_train)\n",
    "Y_pred = clf.predict(X_test)\n",
    "from sklearn.metrics import accuracy_score\n",
    "print(\"L’accuracy d'un arbre CART:\", accuracy_score(Y_test, Y_pred)*100, \"%\")\n",
    "from sklearn.metrics import precision_score\n",
    "print(\"La precision d'un arbre CART:\", precision_score(Y_test, Y_pred)*100, \"%\")\n",
    "from sklearn.metrics import recall_score\n",
    "print(\"Le rappel d'un arbre CART:\", recall_score(Y_test, Y_pred)*100, \"%\")"
   ]
  },
  {
   "cell_type": "markdown",
   "metadata": {},
   "source": [
    "## • k-plus-proches-voisins avec k=5"
   ]
  },
  {
   "cell_type": "code",
   "execution_count": 7,
   "metadata": {},
   "outputs": [
    {
     "name": "stdout",
     "output_type": "stream",
     "text": [
      "L’accuracy d'un arbre CART: 72.02216066481995 %\n",
      "La precision d'un arbre CART: 77.03952901597981 %\n",
      "Le rappel d'un arbre CART: 87.48806112702961 %\n"
     ]
    }
   ],
   "source": [
    "from sklearn.neighbors import KNeighborsClassifier\n",
    "clf = KNeighborsClassifier(n_neighbors=5)\n",
    "clf = clf.fit(X_train, Y_train)\n",
    "Y_pred = clf.predict(X_test)\n",
    "from sklearn.metrics import accuracy_score\n",
    "print(\"L’accuracy d'un arbre CART:\", accuracy_score(Y_test, Y_pred)*100, \"%\")\n",
    "from sklearn.metrics import precision_score\n",
    "print(\"La precision d'un arbre CART:\", precision_score(Y_test, Y_pred)*100, \"%\")\n",
    "from sklearn.metrics import recall_score\n",
    "print(\"Le rappel d'un arbre CART:\", recall_score(Y_test, Y_pred)*100, \"%\")"
   ]
  },
  {
   "cell_type": "markdown",
   "metadata": {},
   "source": [
    "Entre la presicion et le rappel, dans cette application de credit scoring, le presicion est le meilleur critère pour comparer les classifications. Car plus la précision est élevée, plus le faux négatif est faible, ce qui signifie que le montant des créances irrécouvrables (pertes financières) est faible pour la banque. En outre, la précision signifie la perte de client potentiel.\n",
    "\n",
    "En basant sur l'accuracy et le rappel des deux algorithmes, on peut voir que la classification d'arbre CART est préférable de détecter les bons clients et que la classification KNN est préférable de réduire le taux de fausses évaluations des mauvais emprunteurs."
   ]
  },
  {
   "cell_type": "markdown",
   "metadata": {},
   "source": [
    "# 3. Normalisation des variables continues :"
   ]
  },
  {
   "cell_type": "markdown",
   "metadata": {},
   "source": [
    "## MinMaxScaler:"
   ]
  },
  {
   "cell_type": "code",
   "execution_count": 8,
   "metadata": {},
   "outputs": [],
   "source": [
    "from sklearn.preprocessing import MinMaxScaler\n",
    "scaler = MinMaxScaler()\n",
    "scaler.fit(X)\n",
    "X_scaled = scaler.transform(X)"
   ]
  },
  {
   "cell_type": "code",
   "execution_count": 9,
   "metadata": {},
   "outputs": [],
   "source": [
    "from sklearn.model_selection import train_test_split\n",
    "X_train, X_test, Y_train, Y_test = train_test_split(X_scaled, Y, test_size=0.33, random_state=42)"
   ]
  },
  {
   "cell_type": "code",
   "execution_count": 10,
   "metadata": {},
   "outputs": [
    {
     "name": "stdout",
     "output_type": "stream",
     "text": [
      "L’accuracy d'un arbre CART: 71.26038781163435 %\n",
      "La precision d'un arbre CART: 79.86767485822305 %\n",
      "Le rappel d'un arbre CART: 80.70678127984718 %\n"
     ]
    }
   ],
   "source": [
    "from sklearn import tree\n",
    "clf = tree.DecisionTreeClassifier(random_state=1)\n",
    "clf = clf.fit(X_train, Y_train)\n",
    "Y_pred = clf.predict(X_test)\n",
    "from sklearn.metrics import accuracy_score\n",
    "print(\"L’accuracy d'un arbre CART:\", accuracy_score(Y_test, Y_pred)*100, \"%\")\n",
    "from sklearn.metrics import precision_score\n",
    "print(\"La precision d'un arbre CART:\", precision_score(Y_test, Y_pred)*100, \"%\")\n",
    "from sklearn.metrics import recall_score\n",
    "print(\"Le rappel d'un arbre CART:\", recall_score(Y_test, Y_pred)*100, \"%\")"
   ]
  },
  {
   "cell_type": "code",
   "execution_count": 11,
   "metadata": {
    "scrolled": true
   },
   "outputs": [
    {
     "name": "stdout",
     "output_type": "stream",
     "text": [
      "L’accuracy d'un arbre CART: 74.65373961218836 %\n",
      "La precision d'un arbre CART: 80.0 %\n",
      "Le rappel d'un arbre CART: 86.72397325692455 %\n"
     ]
    }
   ],
   "source": [
    "from sklearn.neighbors import KNeighborsClassifier\n",
    "clf = KNeighborsClassifier(n_neighbors=5)\n",
    "clf = clf.fit(X_train, Y_train)\n",
    "Y_pred = clf.predict(X_test)\n",
    "from sklearn.metrics import accuracy_score\n",
    "print(\"L’accuracy d'un arbre CART:\", accuracy_score(Y_test, Y_pred)*100, \"%\")\n",
    "from sklearn.metrics import precision_score\n",
    "print(\"La precision d'un arbre CART:\", precision_score(Y_test, Y_pred)*100, \"%\")\n",
    "from sklearn.metrics import recall_score\n",
    "print(\"Le rappel d'un arbre CART:\", recall_score(Y_test, Y_pred)*100, \"%\")"
   ]
  },
  {
   "cell_type": "markdown",
   "metadata": {},
   "source": [
    "# à conclure: chung ta làm table r KL"
   ]
  },
  {
   "cell_type": "markdown",
   "metadata": {},
   "source": [
    "# 4. Création de nouvelles variables caractéristiques par combinaisons linéaires des variables initiales :"
   ]
  },
  {
   "cell_type": "code",
   "execution_count": 12,
   "metadata": {},
   "outputs": [],
   "source": [
    "from sklearn.decomposition import PCA\n",
    "pca = PCA()\n",
    "pca.fit(X_scaled)\n",
    "X_pca = pca.transform(X_scaled)\n",
    "X_pca = np.concatenate((X_scaled, X_pca), axis=1)"
   ]
  },
  {
   "cell_type": "code",
   "execution_count": 28,
   "metadata": {},
   "outputs": [],
   "source": [
    "from sklearn.model_selection import train_test_split\n",
    "X_train, X_test, Y_train, Y_test = train_test_split(X_pca, Y, test_size=0.33, random_state=42)"
   ]
  },
  {
   "cell_type": "code",
   "execution_count": 14,
   "metadata": {},
   "outputs": [
    {
     "name": "stdout",
     "output_type": "stream",
     "text": [
      "L’accuracy d'un arbre CART: 71.81440443213296 %\n",
      "La precision d'un arbre CART: 80.01876172607881 %\n",
      "Le rappel d'un arbre CART: 81.47086914995224 %\n"
     ]
    }
   ],
   "source": [
    "from sklearn import tree\n",
    "clf = tree.DecisionTreeClassifier(random_state=1)\n",
    "clf = clf.fit(X_train, Y_train)\n",
    "Y_pred = clf.predict(X_test)\n",
    "from sklearn.metrics import accuracy_score\n",
    "print(\"L’accuracy d'un arbre CART:\", accuracy_score(Y_test, Y_pred)*100, \"%\")\n",
    "from sklearn.metrics import precision_score\n",
    "print(\"La precision d'un arbre CART:\", precision_score(Y_test, Y_pred)*100, \"%\")\n",
    "from sklearn.metrics import recall_score\n",
    "print(\"Le rappel d'un arbre CART:\", recall_score(Y_test, Y_pred)*100, \"%\")"
   ]
  },
  {
   "cell_type": "code",
   "execution_count": 15,
   "metadata": {
    "scrolled": true
   },
   "outputs": [
    {
     "name": "stdout",
     "output_type": "stream",
     "text": [
      "L’accuracy d'un arbre CART: 74.65373961218836 %\n",
      "La precision d'un arbre CART: 80.0 %\n",
      "Le rappel d'un arbre CART: 86.72397325692455 %\n"
     ]
    }
   ],
   "source": [
    "from sklearn.neighbors import KNeighborsClassifier\n",
    "clf = KNeighborsClassifier(n_neighbors=5)\n",
    "clf = clf.fit(X_train, Y_train)\n",
    "Y_pred = clf.predict(X_test)\n",
    "from sklearn.metrics import accuracy_score\n",
    "print(\"L’accuracy d'un arbre CART:\", accuracy_score(Y_test, Y_pred)*100, \"%\")\n",
    "from sklearn.metrics import precision_score\n",
    "print(\"La precision d'un arbre CART:\", precision_score(Y_test, Y_pred)*100, \"%\")\n",
    "from sklearn.metrics import recall_score\n",
    "print(\"Le rappel d'un arbre CART:\", recall_score(Y_test, Y_pred)*100, \"%\")"
   ]
  },
  {
   "cell_type": "markdown",
   "metadata": {},
   "source": [
    "# 5. Sélection de variables :"
   ]
  },
  {
   "cell_type": "code",
   "execution_count": 16,
   "metadata": {},
   "outputs": [
    {
     "name": "stdout",
     "output_type": "stream",
     "text": [
      "['Income' 'Price' 'Seniority' 'Amount' 'Age' 'Assets' 'Expenses' 'Records'\n",
      " 'Time' 'Job' 'Debt' 'Home' 'Marital']\n"
     ]
    },
    {
     "data": {
      "image/png": "[encoded data removed]",
      "text/plain": [
       "<Figure size 432x288 with 1 Axes>"
      ]
     },
     "metadata": {},
     "output_type": "display_data"
    }
   ],
   "source": [
    "from sklearn.preprocessing import MinMaxScaler\n",
    "scaler = MinMaxScaler()\n",
    "scaler.fit(X)\n",
    "X_scaled = scaler.transform(X)\n",
    "from sklearn.model_selection import train_test_split\n",
    "X_train, X_test, Y_train, Y_test = train_test_split(X_scaled, Y, test_size=0.33, random_state=42)\n",
    "from sklearn.ensemble import RandomForestClassifier\n",
    "\n",
    "from numpy.core.umath_tests import inner1d\n",
    "clf = RandomForestClassifier(n_estimators=100)\n",
    "clf.fit(X_scaled, Y)\n",
    "importances=clf.feature_importances_\n",
    "std = np.std([tree.feature_importances_ for tree in clf.estimators_],axis=0)\n",
    "sorted_idx = np.argsort(importances)[::-1]\n",
    "features = np.asarray(list(data_df))\n",
    "print(features[sorted_idx])\n",
    "padding = np.arange(X_train.size/len(X_train)) + 0.5\n",
    "plt.barh(padding, importances[sorted_idx],xerr=std[sorted_idx], align='center')\n",
    "plt.yticks(padding, features[sorted_idx])\n",
    "plt.xlabel(\"Relative Importance\")\n",
    "plt.title(\"Variable Importance\")\n",
    "plt.show()"
   ]
  },
  {
   "cell_type": "code",
   "execution_count": 17,
   "metadata": {
    "scrolled": true
   },
   "outputs": [
    {
     "data": {
      "image/png": "[encoded data removed]",
      "text/plain": [
       "<Figure size 432x288 with 1 Axes>"
      ]
     },
     "metadata": {},
     "output_type": "display_data"
    }
   ],
   "source": [
    "KNN=KNeighborsClassifier(n_neighbors=5)\n",
    "scores=np.zeros(X_train.shape[1]+1)\n",
    "for f in np.arange(0, X_train.shape[1]+1):\n",
    "    X1_f = X_train[:,sorted_idx[:f+1]]\n",
    "    X2_f = X_test[:,sorted_idx[:f+1]]\n",
    "    KNN.fit(X1_f,Y_train)\n",
    "    YKNN=KNN.predict(X2_f)\n",
    "    scores[f]=np.round(accuracy_score(Y_test,YKNN),3)\n",
    "plt.plot(scores)\n",
    "plt.xlabel(\"Nombre de Variables\")\n",
    "plt.ylabel(\"Accuracy\")\n",
    "plt.title(\"Evolution de l'accuracy en fonction des variables\")\n",
    "plt.show()"
   ]
  },
  {
   "cell_type": "markdown",
   "metadata": {},
   "source": [
    "# 6. Paramétrage des classifieurs : "
   ]
  },
  {
   "cell_type": "markdown",
   "metadata": {},
   "source": [
    "## Tuner les paramètres algorithmes k-plus proches voisins\n",
    "Le principe des méthodes du k-plus proches voisins est de trouver un nombre k prédéfini d’échantillons d’entraînement le plus proche en distance du nouveau point. En général, un plus grand K supprime les effets du bruit, mais rend les limites de la classification moins distinctes. On va tuner cet paramètres K( n_neighbors)."
   ]
  },
  {
   "cell_type": "code",
   "execution_count": 18,
   "metadata": {},
   "outputs": [],
   "source": [
    "from sklearn.model_selection import GridSearchCV\n",
    "from sklearn.metrics import classification_report\n",
    "df1 = data_df.iloc[:,0:13] \n",
    "k = np.arange(30)+1\n",
    "parameters = {'n_neighbors': k}\n",
    "scores = ['precision', 'recall']\n"
   ]
  },
  {
   "cell_type": "code",
   "execution_count": 19,
   "metadata": {},
   "outputs": [
    {
     "name": "stdout",
     "output_type": "stream",
     "text": [
      "# Tuning hyper-parameters for precision\n",
      "Best parameters set found on development set:\n",
      "{'n_neighbors': 18}\n",
      "Grid scores on development set:\n",
      "0.637 (+/-0.033) for {'n_neighbors': 1}\n",
      "0.635 (+/-0.035) for {'n_neighbors': 2}\n",
      "0.670 (+/-0.059) for {'n_neighbors': 3}\n",
      "0.664 (+/-0.054) for {'n_neighbors': 4}\n",
      "0.685 (+/-0.055) for {'n_neighbors': 5}\n",
      "0.686 (+/-0.043) for {'n_neighbors': 6}\n",
      "0.698 (+/-0.052) for {'n_neighbors': 7}\n",
      "0.701 (+/-0.056) for {'n_neighbors': 8}\n",
      "0.710 (+/-0.049) for {'n_neighbors': 9}\n",
      "0.704 (+/-0.045) for {'n_neighbors': 10}\n",
      "0.704 (+/-0.040) for {'n_neighbors': 11}\n",
      "0.705 (+/-0.030) for {'n_neighbors': 12}\n",
      "0.710 (+/-0.033) for {'n_neighbors': 13}\n",
      "0.707 (+/-0.038) for {'n_neighbors': 14}\n",
      "0.710 (+/-0.035) for {'n_neighbors': 15}\n",
      "0.711 (+/-0.030) for {'n_neighbors': 16}\n",
      "0.710 (+/-0.028) for {'n_neighbors': 17}\n",
      "0.715 (+/-0.036) for {'n_neighbors': 18}\n",
      "0.712 (+/-0.029) for {'n_neighbors': 19}\n",
      "0.715 (+/-0.037) for {'n_neighbors': 20}\n",
      "0.711 (+/-0.036) for {'n_neighbors': 21}\n",
      "0.713 (+/-0.029) for {'n_neighbors': 22}\n",
      "0.707 (+/-0.034) for {'n_neighbors': 23}\n",
      "0.713 (+/-0.034) for {'n_neighbors': 24}\n",
      "0.707 (+/-0.032) for {'n_neighbors': 25}\n",
      "0.707 (+/-0.034) for {'n_neighbors': 26}\n",
      "0.706 (+/-0.033) for {'n_neighbors': 27}\n",
      "0.703 (+/-0.027) for {'n_neighbors': 28}\n",
      "0.706 (+/-0.028) for {'n_neighbors': 29}\n",
      "0.705 (+/-0.028) for {'n_neighbors': 30}\n",
      "Detailed classification report:\n",
      "The model is trained on the full development set.\n",
      "The scores are computed on the full evaluation set.\n",
      "             precision    recall  f1-score   support\n",
      "\n",
      "        0.0       0.61      0.47      0.53       397\n",
      "        1.0       0.82      0.88      0.85      1047\n",
      "\n",
      "avg / total       0.76      0.77      0.76      1444\n",
      "\n",
      "# Tuning hyper-parameters for recall\n",
      "Best parameters set found on development set:\n",
      "{'n_neighbors': 8}\n",
      "Grid scores on development set:\n",
      "0.631 (+/-0.035) for {'n_neighbors': 1}\n",
      "0.664 (+/-0.042) for {'n_neighbors': 2}\n",
      "0.651 (+/-0.045) for {'n_neighbors': 3}\n",
      "0.677 (+/-0.063) for {'n_neighbors': 4}\n",
      "0.659 (+/-0.053) for {'n_neighbors': 5}\n",
      "0.687 (+/-0.047) for {'n_neighbors': 6}\n",
      "0.665 (+/-0.044) for {'n_neighbors': 7}\n",
      "0.690 (+/-0.055) for {'n_neighbors': 8}\n",
      "0.671 (+/-0.039) for {'n_neighbors': 9}\n",
      "0.688 (+/-0.043) for {'n_neighbors': 10}\n",
      "0.664 (+/-0.033) for {'n_neighbors': 11}\n",
      "0.685 (+/-0.038) for {'n_neighbors': 12}\n",
      "0.670 (+/-0.036) for {'n_neighbors': 13}\n",
      "0.686 (+/-0.051) for {'n_neighbors': 14}\n",
      "0.670 (+/-0.036) for {'n_neighbors': 15}\n",
      "0.685 (+/-0.038) for {'n_neighbors': 16}\n",
      "0.672 (+/-0.037) for {'n_neighbors': 17}\n",
      "0.689 (+/-0.049) for {'n_neighbors': 18}\n",
      "0.677 (+/-0.044) for {'n_neighbors': 19}\n",
      "0.688 (+/-0.043) for {'n_neighbors': 20}\n",
      "0.671 (+/-0.039) for {'n_neighbors': 21}\n",
      "0.683 (+/-0.038) for {'n_neighbors': 22}\n",
      "0.669 (+/-0.038) for {'n_neighbors': 23}\n",
      "0.686 (+/-0.043) for {'n_neighbors': 24}\n",
      "0.669 (+/-0.040) for {'n_neighbors': 25}\n",
      "0.678 (+/-0.038) for {'n_neighbors': 26}\n",
      "0.668 (+/-0.031) for {'n_neighbors': 27}\n",
      "0.675 (+/-0.031) for {'n_neighbors': 28}\n",
      "0.669 (+/-0.039) for {'n_neighbors': 29}\n",
      "0.675 (+/-0.035) for {'n_neighbors': 30}\n",
      "Detailed classification report:\n",
      "The model is trained on the full development set.\n",
      "The scores are computed on the full evaluation set.\n",
      "             precision    recall  f1-score   support\n",
      "\n",
      "        0.0       0.58      0.51      0.54       397\n",
      "        1.0       0.82      0.86      0.84      1047\n",
      "\n",
      "avg / total       0.75      0.76      0.76      1444\n",
      "\n"
     ]
    }
   ],
   "source": [
    "for score in scores:\n",
    "    print(\"# Tuning hyper-parameters for %s\" % score)\n",
    "    clf = GridSearchCV(KNN, parameters, cv=10, scoring='%s_macro' % score)\n",
    "    clf.fit(X_train, Y_train)\n",
    "    print(\"Best parameters set found on development set:\")\n",
    "    print(clf.best_params_)\n",
    "    print(\"Grid scores on development set:\")\n",
    "    means = clf.cv_results_['mean_test_score']\n",
    "    stds = clf.cv_results_['std_test_score']\n",
    "    for mean, std, params in zip(means, stds, clf.cv_results_['params']):\n",
    "        print(\"%0.3f (+/-%0.03f) for %r\"\n",
    "              % (mean, std * 2, params))\n",
    "    print(\"Detailed classification report:\")\n",
    "    print(\"The model is trained on the full development set.\")\n",
    "    print(\"The scores are computed on the full evaluation set.\")\n",
    "    y_true, y_pred = Y_test, clf.predict(X_test)\n",
    "    print(classification_report(y_true, y_pred))"
   ]
  },
  {
   "cell_type": "markdown",
   "metadata": {},
   "source": [
    "## Tuner les paramètres algorithmes Arbre de décision, \n",
    "Arbre de décision répété plusieurs fois à l'aide de sélections aléatoires de caractéristiques et d'échantillons (technique similaire utilisée dans des forêts aléatoires). Le paramètre random_state du fonction Arbre de décision permet de contrôler ces choix aléatoires. On va tuner cet paramètres."
   ]
  },
  {
   "cell_type": "code",
   "execution_count": 20,
   "metadata": {},
   "outputs": [],
   "source": [
    "from sklearn.model_selection import GridSearchCV\n",
    "from sklearn.metrics import classification_report\n",
    "from sklearn import tree\n",
    "DTC = tree.DecisionTreeClassifier(random_state=1)\n",
    "df1 = data_df.iloc[:,0:13] \n",
    "k = np.arange(40)+1\n",
    "parameters_DTC = {'random_state': k}\n",
    "scores = ['precision', 'recall']"
   ]
  },
  {
   "cell_type": "code",
   "execution_count": 21,
   "metadata": {},
   "outputs": [
    {
     "name": "stdout",
     "output_type": "stream",
     "text": [
      "# Tuning hyper-parameters for precision\n",
      "Best parameters set found on development set:\n",
      "{'random_state': 15}\n",
      "Grid scores on development set:\n",
      "0.662 (+/-0.054) for {'random_state': 1}\n",
      "0.653 (+/-0.062) for {'random_state': 2}\n",
      "0.654 (+/-0.068) for {'random_state': 3}\n",
      "0.657 (+/-0.045) for {'random_state': 4}\n",
      "0.656 (+/-0.047) for {'random_state': 5}\n",
      "0.652 (+/-0.048) for {'random_state': 6}\n",
      "0.660 (+/-0.054) for {'random_state': 7}\n",
      "0.651 (+/-0.053) for {'random_state': 8}\n",
      "0.648 (+/-0.038) for {'random_state': 9}\n",
      "0.655 (+/-0.061) for {'random_state': 10}\n",
      "0.651 (+/-0.044) for {'random_state': 11}\n",
      "0.656 (+/-0.040) for {'random_state': 12}\n",
      "0.651 (+/-0.038) for {'random_state': 13}\n",
      "0.650 (+/-0.045) for {'random_state': 14}\n",
      "0.663 (+/-0.057) for {'random_state': 15}\n",
      "0.651 (+/-0.045) for {'random_state': 16}\n",
      "0.655 (+/-0.058) for {'random_state': 17}\n",
      "0.649 (+/-0.046) for {'random_state': 18}\n",
      "0.651 (+/-0.036) for {'random_state': 19}\n",
      "0.651 (+/-0.061) for {'random_state': 20}\n",
      "0.656 (+/-0.047) for {'random_state': 21}\n",
      "0.654 (+/-0.061) for {'random_state': 22}\n",
      "0.660 (+/-0.068) for {'random_state': 23}\n",
      "0.654 (+/-0.063) for {'random_state': 24}\n",
      "0.655 (+/-0.062) for {'random_state': 25}\n",
      "0.653 (+/-0.048) for {'random_state': 26}\n",
      "0.648 (+/-0.044) for {'random_state': 27}\n",
      "0.660 (+/-0.062) for {'random_state': 28}\n",
      "0.653 (+/-0.042) for {'random_state': 29}\n",
      "0.650 (+/-0.050) for {'random_state': 30}\n",
      "0.648 (+/-0.043) for {'random_state': 31}\n",
      "0.655 (+/-0.060) for {'random_state': 32}\n",
      "0.658 (+/-0.048) for {'random_state': 33}\n",
      "0.652 (+/-0.056) for {'random_state': 34}\n",
      "0.657 (+/-0.062) for {'random_state': 35}\n",
      "0.647 (+/-0.035) for {'random_state': 36}\n",
      "0.650 (+/-0.040) for {'random_state': 37}\n",
      "0.650 (+/-0.054) for {'random_state': 38}\n",
      "0.650 (+/-0.048) for {'random_state': 39}\n",
      "0.653 (+/-0.046) for {'random_state': 40}\n",
      "Detailed classification report:\n",
      "The model is trained on the full development set.\n",
      "The scores are computed on the full evaluation set.\n",
      "             precision    recall  f1-score   support\n",
      "\n",
      "        0.0       0.48      0.48      0.48       397\n",
      "        1.0       0.80      0.80      0.80      1047\n",
      "\n",
      "avg / total       0.71      0.71      0.71      1444\n",
      "\n",
      "# Tuning hyper-parameters for recall\n",
      "Best parameters set found on development set:\n",
      "{'random_state': 15}\n",
      "Grid scores on development set:\n",
      "0.659 (+/-0.042) for {'random_state': 1}\n",
      "0.651 (+/-0.059) for {'random_state': 2}\n",
      "0.653 (+/-0.056) for {'random_state': 3}\n",
      "0.656 (+/-0.035) for {'random_state': 4}\n",
      "0.654 (+/-0.040) for {'random_state': 5}\n",
      "0.650 (+/-0.038) for {'random_state': 6}\n",
      "0.658 (+/-0.042) for {'random_state': 7}\n",
      "0.650 (+/-0.046) for {'random_state': 8}\n",
      "0.647 (+/-0.037) for {'random_state': 9}\n",
      "0.653 (+/-0.057) for {'random_state': 10}\n",
      "0.649 (+/-0.035) for {'random_state': 11}\n",
      "0.656 (+/-0.040) for {'random_state': 12}\n",
      "0.650 (+/-0.030) for {'random_state': 13}\n",
      "0.650 (+/-0.038) for {'random_state': 14}\n",
      "0.662 (+/-0.047) for {'random_state': 15}\n",
      "0.650 (+/-0.040) for {'random_state': 16}\n",
      "0.650 (+/-0.052) for {'random_state': 17}\n",
      "0.649 (+/-0.041) for {'random_state': 18}\n",
      "0.651 (+/-0.030) for {'random_state': 19}\n",
      "0.649 (+/-0.054) for {'random_state': 20}\n",
      "0.656 (+/-0.039) for {'random_state': 21}\n",
      "0.654 (+/-0.052) for {'random_state': 22}\n",
      "0.658 (+/-0.055) for {'random_state': 23}\n",
      "0.652 (+/-0.060) for {'random_state': 24}\n",
      "0.655 (+/-0.055) for {'random_state': 25}\n",
      "0.651 (+/-0.041) for {'random_state': 26}\n",
      "0.648 (+/-0.039) for {'random_state': 27}\n",
      "0.658 (+/-0.047) for {'random_state': 28}\n",
      "0.651 (+/-0.031) for {'random_state': 29}\n",
      "0.648 (+/-0.044) for {'random_state': 30}\n",
      "0.646 (+/-0.038) for {'random_state': 31}\n",
      "0.654 (+/-0.049) for {'random_state': 32}\n",
      "0.657 (+/-0.040) for {'random_state': 33}\n",
      "0.650 (+/-0.047) for {'random_state': 34}\n",
      "0.656 (+/-0.056) for {'random_state': 35}\n",
      "0.647 (+/-0.030) for {'random_state': 36}\n",
      "0.648 (+/-0.039) for {'random_state': 37}\n",
      "0.649 (+/-0.043) for {'random_state': 38}\n",
      "0.649 (+/-0.045) for {'random_state': 39}\n",
      "0.652 (+/-0.036) for {'random_state': 40}\n",
      "Detailed classification report:\n",
      "The model is trained on the full development set.\n",
      "The scores are computed on the full evaluation set.\n",
      "             precision    recall  f1-score   support\n",
      "\n",
      "        0.0       0.48      0.48      0.48       397\n",
      "        1.0       0.80      0.80      0.80      1047\n",
      "\n",
      "avg / total       0.71      0.71      0.71      1444\n",
      "\n"
     ]
    }
   ],
   "source": [
    "for score in scores:\n",
    "    print(\"# Tuning hyper-parameters for %s\" % score)\n",
    "    clf = GridSearchCV(DTC, parameters_DTC, cv=10, scoring='%s_macro' % score)\n",
    "    clf.fit(X_train, Y_train)\n",
    "    print(\"Best parameters set found on development set:\")\n",
    "    print(clf.best_params_)\n",
    "    print(\"Grid scores on development set:\")\n",
    "    means = clf.cv_results_['mean_test_score']\n",
    "    stds = clf.cv_results_['std_test_score']\n",
    "    for mean, std, params in zip(means, stds, clf.cv_results_['params']):\n",
    "        print(\"%0.3f (+/-%0.03f) for %r\"\n",
    "              % (mean, std * 2, params))\n",
    "    print(\"Detailed classification report:\")\n",
    "    print(\"The model is trained on the full development set.\")\n",
    "    print(\"The scores are computed on the full evaluation set.\")\n",
    "    y_true, y_pred = Y_test, clf.predict(X_test)\n",
    "    print(classification_report(y_true, y_pred))"
   ]
  },
  {
   "cell_type": "markdown",
   "metadata": {},
   "source": [
    "## 7. Création d’un pipeline"
   ]
  },
  {
   "cell_type": "markdown",
   "metadata": {},
   "source": [
    "On cree une pipeline avec 2 methode Normalisation(Standard et Min max), ACP et 2 methode de classfication KNN et decisiontree"
   ]
  },
  {
   "cell_type": "code",
   "execution_count": 22,
   "metadata": {},
   "outputs": [
    {
     "data": {
      "text/plain": [
       "'KNeighborsClassification Accuracy: 0.747'"
      ]
     },
     "execution_count": 22,
     "metadata": {},
     "output_type": "execute_result"
    }
   ],
   "source": [
    "from sklearn.preprocessing import StandardScaler\n",
    "from sklearn.decomposition import PCA\n",
    "from sklearn.pipeline import Pipeline\n",
    "\n",
    "pipe_lr = Pipeline([('scl', StandardScaler()),\n",
    "                    ('pca', PCA()),\n",
    "                    ('clf', KNeighborsClassifier(n_neighbors=5))\n",
    "                   ])\n",
    "\n",
    "pipe_lr.fit(X_train, Y_train)\n",
    "'KNeighborsClassification Accuracy: %.3f' % pipe_lr.score(X_test, Y_test) \n"
   ]
  },
  {
   "cell_type": "code",
   "execution_count": 23,
   "metadata": {},
   "outputs": [
    {
     "data": {
      "text/plain": [
       "'DecisionTreeClassifier Accuracy: 0.706'"
      ]
     },
     "execution_count": 23,
     "metadata": {},
     "output_type": "execute_result"
    }
   ],
   "source": [
    "from sklearn.preprocessing import StandardScaler\n",
    "from sklearn.decomposition import PCA\n",
    "from sklearn import tree\n",
    "from sklearn.pipeline import Pipeline\n",
    "\n",
    "pipe_lr = Pipeline([('scl', StandardScaler()),\n",
    "                    ('pca', PCA()),\n",
    "                    ('clf', tree.DecisionTreeClassifier(random_state=1))\n",
    "                   ])\n",
    "\n",
    "pipe_lr.fit(X_train, Y_train)\n",
    "'DecisionTreeClassifier Accuracy: %.3f' % pipe_lr.score(X_test, Y_test) "
   ]
  },
  {
   "cell_type": "code",
   "execution_count": 24,
   "metadata": {},
   "outputs": [
    {
     "data": {
      "text/plain": [
       "'KNeighborsClassification Accuracy: 0.742'"
      ]
     },
     "execution_count": 24,
     "metadata": {},
     "output_type": "execute_result"
    }
   ],
   "source": [
    "from sklearn.preprocessing import StandardScaler\n",
    "from sklearn.decomposition import PCA\n",
    "from sklearn.pipeline import Pipeline\n",
    "\n",
    "pipe_lr = Pipeline([('scl', MinMaxScaler()),\n",
    "                    ('pca', PCA()),\n",
    "                    ('clf', KNeighborsClassifier(n_neighbors=5))\n",
    "                   ])\n",
    "\n",
    "pipe_lr.fit(X_train, Y_train)\n",
    "'KNeighborsClassification Accuracy: %.3f' % pipe_lr.score(X_test, Y_test) "
   ]
  },
  {
   "cell_type": "code",
   "execution_count": 25,
   "metadata": {},
   "outputs": [
    {
     "data": {
      "text/plain": [
       "'DecisionTreeClassifier Accuracy: 0.705'"
      ]
     },
     "execution_count": 25,
     "metadata": {},
     "output_type": "execute_result"
    }
   ],
   "source": [
    "from sklearn.preprocessing import StandardScaler\n",
    "from sklearn.decomposition import PCA\n",
    "from sklearn import tree\n",
    "from sklearn.pipeline import Pipeline\n",
    "\n",
    "pipe_lr = Pipeline([('scl', MinMaxScaler()),\n",
    "                    ('pca', PCA()),\n",
    "                    ('clf', tree.DecisionTreeClassifier(random_state=1))\n",
    "                   ])\n",
    "\n",
    "pipe_lr.fit(X_train, Y_train)\n",
    "'DecisionTreeClassifier Accuracy: %.3f' % pipe_lr.score(X_test, Y_test) "
   ]
  },
  {
   "cell_type": "markdown",
   "metadata": {},
   "source": [
    "## 8. Comparaison de plusieurs algorithmes d’apprentissage :"
   ]
  },
  {
   "cell_type": "markdown",
   "metadata": {},
   "source": [
    "La documentation indique que scikit-learn utilise une version optimisée de l'algorithme CART. On ne peut pas donc probablement pas utiliser arbre ID3 \n",
    "http://scikit-learn.org/stable/modules/tree.html#tree-algorithms-id3-c4-5-c5-0-and-cart"
   ]
  },
  {
   "cell_type": "code",
   "execution_count": 49,
   "metadata": {},
   "outputs": [
    {
     "name": "stdout",
     "output_type": "stream",
     "text": [
      "Accuracy for RF is: 0.784 +/- 0.026\n",
      "Accuracy for KNN is: 0.752 +/- 0.021\n",
      "Accuracy for NBS is: 0.766 +/- 0.023\n",
      "Accuracy for MLP is: 0.779 +/- 0.028\n",
      "Accuracy for DT is: 0.692 +/- 0.017\n",
      "Accuracy for Bagging is: 0.779 +/- 0.022\n",
      "Accuracy for Adaboost is: 0.789 +/- 0.019\n"
     ]
    }
   ],
   "source": [
    "from sklearn.naive_bayes import GaussianNB\n",
    "from sklearn.tree import DecisionTreeClassifier\n",
    "from sklearn.neural_network import MLPClassifier\n",
    "from sklearn.ensemble import BaggingClassifier\n",
    "from sklearn.ensemble import AdaBoostClassifier\n",
    "from sklearn.model_selection import KFold\n",
    "from sklearn.model_selection import cross_val_score\n",
    "\n",
    "#base_estimator = [None,  KNeighborsClassifier(n_neighbors=5), tree.DecisionTreeClassifier(random_state=1)]\n",
    "clfs = {\n",
    "'RF': RandomForestClassifier(n_estimators=50),\n",
    "'KNN': KNeighborsClassifier(n_neighbors=5),\n",
    "'NBS':GaussianNB(),\n",
    "'MLP':MLPClassifier(solver='lbfgs', alpha=1e-5,hidden_layer_sizes=(20, 10), random_state=1), ## MultilayerPerceptron à deux couches de tailles respectives 20 et 10\n",
    "'DT':DecisionTreeClassifier(random_state=1), \n",
    "'Bagging': BaggingClassifier(n_estimators=50),\n",
    "'Adaboost': AdaBoostClassifier(n_estimators=50, random_state=1)\n",
    "}\n",
    "kf = KFold(n_splits=10, shuffle=True, random_state=0)\n",
    "for i in clfs:\n",
    "    clf = clfs[i]\n",
    "    cv_acc = cross_val_score(clf, X_train, Y_train, cv=kf)\n",
    "    print(\"Accuracy for {0} is: {1:.3f} +/- {2:.3f}\".format(i, np.mean(cv_acc), np.std(cv_acc)))"
   ]
  },
  {
   "cell_type": "code",
   "execution_count": null,
   "metadata": {},
   "outputs": [],
   "source": []
  },
  {
   "cell_type": "code",
   "execution_count": null,
   "metadata": {},
   "outputs": [],
   "source": []
  }
 ],
 "metadata": {
  "kernelspec": {
   "display_name": "Python 3",
   "language": "python",
   "name": "python3"
  },
  "language_info": {
   "codemirror_mode": {
    "name": "ipython",
    "version": 3
   },
   "file_extension": ".py",
   "mimetype": "text/x-python",
   "name": "python",
   "nbconvert_exporter": "python",
   "pygments_lexer": "ipython3",
   "version": "3.6.4"
  }
 },
 "nbformat": 4,
 "nbformat_minor": 2
}
