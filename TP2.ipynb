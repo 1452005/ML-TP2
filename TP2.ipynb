{
 "cells": [
  {
   "cell_type": "markdown",
   "metadata": {},
   "source": [
    "Créer un nouveau notebook Python et taper le code suivant dans une nouvelle cellule :"
   ]
  },
  {
   "cell_type": "code",
   "execution_count": 1,
   "metadata": {},
   "outputs": [],
   "source": [
    "import numpy as np\n",
    "np.set_printoptions(threshold=np.nan,suppress=True)\n",
    "import pandas as pd\n",
    "import warnings\n",
    "import matplotlib.pyplot as plt\n",
    "warnings.filterwarnings('ignore')"
   ]
  },
  {
   "cell_type": "markdown",
   "metadata": {},
   "source": [
    "# 1. Chargement des données et préparation : Dans un premier temps nous allons importer le jeu de données et analyser ses caractéristiques"
   ]
  },
  {
   "cell_type": "markdown",
   "metadata": {},
   "source": [
    "## • Importer ce jeu de données avec la librairie pandas (c.f. read_csv)\n",
    "\n",
    "## • Transformer votre jeu de données issue de pandas qui sera de type Data Frame en numpy Array (c.f. values) et séparer ensuite les variables caractéristiques de la variable à prédire (status) en deux tableaux différents."
   ]
  },
  {
   "cell_type": "code",
   "execution_count": 2,
   "metadata": {},
   "outputs": [],
   "source": [
    "data_df = pd.read_csv('./credit_scoring.csv', sep=';')\n",
    "data = data_df.values\n",
    "#  variables caractéristiques \n",
    "X = data[:,0:13]\n",
    "#  variable à prédire\n",
    "Y = data[:,13]"
   ]
  },
  {
   "cell_type": "markdown",
   "metadata": {},
   "source": [
    "## • Analyser les propriétés de vos données : taille de l’échantillon (c.f. shape), nombre d’exemples positifs et négatifs (c.f. hist)."
   ]
  },
  {
   "cell_type": "code",
   "execution_count": 3,
   "metadata": {},
   "outputs": [
    {
     "data": {
      "text/plain": [
       "(4375, 14)"
      ]
     },
     "execution_count": 3,
     "metadata": {},
     "output_type": "execute_result"
    }
   ],
   "source": [
    "data.shape"
   ]
  },
  {
   "cell_type": "markdown",
   "metadata": {},
   "source": [
    "On a 4375 observations dans notre l’échantillon et 14 colonnes (c.à.d 13 variables caractéristiques + 1 variable à prédire)"
   ]
  },
  {
   "cell_type": "code",
   "execution_count": 4,
   "metadata": {},
   "outputs": [
    {
     "data": {
      "text/plain": [
       "array([[<matplotlib.axes._subplots.AxesSubplot object at 0x000002D6639B5A58>,\n",
       "        <matplotlib.axes._subplots.AxesSubplot object at 0x000002D663C82358>,\n",
       "        <matplotlib.axes._subplots.AxesSubplot object at 0x000002D663CAC9E8>,\n",
       "        <matplotlib.axes._subplots.AxesSubplot object at 0x000002D663CDF0B8>],\n",
       "       [<matplotlib.axes._subplots.AxesSubplot object at 0x000002D663D05748>,\n",
       "        <matplotlib.axes._subplots.AxesSubplot object at 0x000002D663D05780>,\n",
       "        <matplotlib.axes._subplots.AxesSubplot object at 0x000002D663D5F4A8>,\n",
       "        <matplotlib.axes._subplots.AxesSubplot object at 0x000002D663D85B38>],\n",
       "       [<matplotlib.axes._subplots.AxesSubplot object at 0x000002D663DB7208>,\n",
       "        <matplotlib.axes._subplots.AxesSubplot object at 0x000002D663DDF898>,\n",
       "        <matplotlib.axes._subplots.AxesSubplot object at 0x000002D663E07F28>,\n",
       "        <matplotlib.axes._subplots.AxesSubplot object at 0x000002D663E385F8>],\n",
       "       [<matplotlib.axes._subplots.AxesSubplot object at 0x000002D663E5EC88>,\n",
       "        <matplotlib.axes._subplots.AxesSubplot object at 0x000002D663E92358>,\n",
       "        <matplotlib.axes._subplots.AxesSubplot object at 0x000002D663EB99E8>,\n",
       "        <matplotlib.axes._subplots.AxesSubplot object at 0x000002D663EEB0B8>]],\n",
       "      dtype=object)"
      ]
     },
     "execution_count": 4,
     "metadata": {},
     "output_type": "execute_result"
    },
    {
     "data": {
      "image/png": "[encoded data removed]",
      "text/plain": [
       "<Figure size 432x288 with 16 Axes>"
      ]
     },
     "metadata": {
      "needs_background": "light"
     },
     "output_type": "display_data"
    }
   ],
   "source": [
    "data_df.hist(bins = 2)"
   ]
  },
  {
   "cell_type": "markdown",
   "metadata": {},
   "source": [
    "## • Pour éviter d’avoir un résultat biaisé du classifieur que nous allons construire, séparer les données en deux partie une dite d’apprentissage qui servira à l’apprentissage du classifieur et l’autre dite de test qui servira à son évaluation (c.f. train_test_split)."
   ]
  },
  {
   "cell_type": "code",
   "execution_count": 5,
   "metadata": {},
   "outputs": [],
   "source": [
    "from sklearn.model_selection import train_test_split\n",
    "X_train, X_test, Y_train, Y_test = train_test_split(X, Y, test_size=0.33, random_state=42)"
   ]
  },
  {
   "cell_type": "markdown",
   "metadata": {},
   "source": [
    "on split notre dataset en deux parties ( un tier pour le test, et deux tiers pour training)"
   ]
  },
  {
   "cell_type": "markdown",
   "metadata": {},
   "source": [
    "# 2. Apprentissage et évaluation de modèles : Utiliser ensuite sur votre jeu de données les algorithmes d’apprentissage supervisé suivants :"
   ]
  },
  {
   "cell_type": "markdown",
   "metadata": {},
   "source": [
    "## • Un arbre CART (random_state=1)"
   ]
  },
  {
   "cell_type": "code",
   "execution_count": 6,
   "metadata": {},
   "outputs": [
    {
     "name": "stdout",
     "output_type": "stream",
     "text": [
      "L’accuracy d'un arbre CART: 71.26038781163435 %\n",
      "La precision d'un arbre CART: 79.81132075471699 %\n",
      "Le rappel d'un arbre CART: 80.80229226361033 %\n"
     ]
    }
   ],
   "source": [
    "from sklearn import tree\n",
    "clf = tree.DecisionTreeClassifier(random_state=1)\n",
    "clf = clf.fit(X_train, Y_train)\n",
    "Y_pred = clf.predict(X_test)\n",
    "from sklearn.metrics import accuracy_score\n",
    "print(\"L’accuracy d'un arbre CART:\", accuracy_score(Y_test, Y_pred)*100, \"%\")\n",
    "from sklearn.metrics import precision_score\n",
    "print(\"La precision d'un arbre CART:\", precision_score(Y_test, Y_pred)*100, \"%\")\n",
    "from sklearn.metrics import recall_score\n",
    "print(\"Le rappel d'un arbre CART:\", recall_score(Y_test, Y_pred)*100, \"%\")"
   ]
  },
  {
   "cell_type": "markdown",
   "metadata": {},
   "source": [
    "## • k-plus-proches-voisins avec k=5"
   ]
  },
  {
   "cell_type": "code",
   "execution_count": 7,
   "metadata": {},
   "outputs": [
    {
     "name": "stdout",
     "output_type": "stream",
     "text": [
      "L’accuracy d'un arbre CART: 72.02216066481995 %\n",
      "La precision d'un arbre CART: 77.03952901597981 %\n",
      "Le rappel d'un arbre CART: 87.48806112702961 %\n"
     ]
    }
   ],
   "source": [
    "from sklearn.neighbors import KNeighborsClassifier\n",
    "clf = KNeighborsClassifier(n_neighbors=5)\n",
    "clf = clf.fit(X_train, Y_train)\n",
    "Y_pred = clf.predict(X_test)\n",
    "from sklearn.metrics import accuracy_score\n",
    "print(\"L’accuracy d'un arbre CART:\", accuracy_score(Y_test, Y_pred)*100, \"%\")\n",
    "from sklearn.metrics import precision_score\n",
    "print(\"La precision d'un arbre CART:\", precision_score(Y_test, Y_pred)*100, \"%\")\n",
    "from sklearn.metrics import recall_score\n",
    "print(\"Le rappel d'un arbre CART:\", recall_score(Y_test, Y_pred)*100, \"%\")"
   ]
  },
  {
   "cell_type": "markdown",
   "metadata": {},
   "source": [
    "Entre la presicion et le rappel, dans cette application de credit scoring, le presicion est le meilleur critère pour comparer les classifications. Car plus la précision est élevée, plus le faux négatif est faible, ce qui signifie que le montant des créances irrécouvrables (pertes financières) est faible pour la banque. En outre, la précision signifie la perte de client potentiel.\n",
    "\n",
    "En basant sur l'accuracy et le rappel des deux algorithmes, on peut voir que la classification d'arbre CART est préférable de détecter les bons clients et que la classification KNN est préférable de réduire le taux de fausses évaluations des mauvais emprunteurs."
   ]
  },
  {
   "cell_type": "markdown",
   "metadata": {},
   "source": [
    "# 3. Normalisation des variables continues :"
   ]
  },
  {
   "cell_type": "markdown",
   "metadata": {},
   "source": [
    "## MinMaxScaler:"
   ]
  },
  {
   "cell_type": "code",
   "execution_count": 22,
   "metadata": {},
   "outputs": [],
   "source": [
    "from sklearn.preprocessing import MinMaxScaler\n",
    "scaler = MinMaxScaler()\n",
    "scaler.fit(X)\n",
    "X_scaled = scaler.transform(X)"
   ]
  },
  {
   "cell_type": "code",
   "execution_count": 23,
   "metadata": {},
   "outputs": [],
   "source": [
    "from sklearn.model_selection import train_test_split\n",
    "X_train, X_test, Y_train, Y_test = train_test_split(X_scaled, Y, test_size=0.33, random_state=42)"
   ]
  },
  {
   "cell_type": "code",
   "execution_count": 10,
   "metadata": {},
   "outputs": [
    {
     "name": "stdout",
     "output_type": "stream",
     "text": [
      "L’accuracy d'un arbre CART: 71.26038781163435 %\n",
      "La precision d'un arbre CART: 79.86767485822305 %\n",
      "Le rappel d'un arbre CART: 80.70678127984718 %\n"
     ]
    }
   ],
   "source": [
    "from sklearn import tree\n",
    "clf = tree.DecisionTreeClassifier(random_state=1)\n",
    "clf = clf.fit(X_train, Y_train)\n",
    "Y_pred = clf.predict(X_test)\n",
    "from sklearn.metrics import accuracy_score\n",
    "print(\"L’accuracy d'un arbre CART:\", accuracy_score(Y_test, Y_pred)*100, \"%\")\n",
    "from sklearn.metrics import precision_score\n",
    "print(\"La precision d'un arbre CART:\", precision_score(Y_test, Y_pred)*100, \"%\")\n",
    "from sklearn.metrics import recall_score\n",
    "print(\"Le rappel d'un arbre CART:\", recall_score(Y_test, Y_pred)*100, \"%\")"
   ]
  },
  {
   "cell_type": "code",
   "execution_count": 11,
   "metadata": {
    "scrolled": true
   },
   "outputs": [
    {
     "name": "stdout",
     "output_type": "stream",
     "text": [
      "L’accuracy d'un arbre CART: 74.65373961218836 %\n",
      "La precision d'un arbre CART: 80.0 %\n",
      "Le rappel d'un arbre CART: 86.72397325692455 %\n"
     ]
    }
   ],
   "source": [
    "from sklearn.neighbors import KNeighborsClassifier\n",
    "clf = KNeighborsClassifier(n_neighbors=5)\n",
    "clf = clf.fit(X_train, Y_train)\n",
    "Y_pred = clf.predict(X_test)\n",
    "from sklearn.metrics import accuracy_score\n",
    "print(\"L’accuracy d'un arbre CART:\", accuracy_score(Y_test, Y_pred)*100, \"%\")\n",
    "from sklearn.metrics import precision_score\n",
    "print(\"La precision d'un arbre CART:\", precision_score(Y_test, Y_pred)*100, \"%\")\n",
    "from sklearn.metrics import recall_score\n",
    "print(\"Le rappel d'un arbre CART:\", recall_score(Y_test, Y_pred)*100, \"%\")"
   ]
  },
  {
   "cell_type": "markdown",
   "metadata": {},
   "source": [
    "# à conclure: chung ta làm table r KL"
   ]
  },
  {
   "cell_type": "markdown",
   "metadata": {},
   "source": [
    "# 4. Création de nouvelles variables caractéristiques par combinaisons linéaires des variables initiales :"
   ]
  },
  {
   "cell_type": "code",
   "execution_count": 12,
   "metadata": {},
   "outputs": [],
   "source": [
    "from sklearn.decomposition import PCA\n",
    "pca = PCA()\n",
    "pca.fit(X_scaled)\n",
    "X_pca = pca.transform(X_scaled)\n",
    "X_pca = np.concatenate((X_scaled, X_pca), axis=1)"
   ]
  },
  {
   "cell_type": "code",
   "execution_count": 13,
   "metadata": {},
   "outputs": [],
   "source": [
    "from sklearn.model_selection import train_test_split\n",
    "X_train, X_test, Y_train, Y_test = train_test_split(X_pca, Y, test_size=0.33, random_state=42)"
   ]
  },
  {
   "cell_type": "code",
   "execution_count": 14,
   "metadata": {},
   "outputs": [
    {
     "name": "stdout",
     "output_type": "stream",
     "text": [
      "L’accuracy d'un arbre CART: 71.81440443213296 %\n",
      "La precision d'un arbre CART: 80.01876172607881 %\n",
      "Le rappel d'un arbre CART: 81.47086914995224 %\n"
     ]
    }
   ],
   "source": [
    "from sklearn import tree\n",
    "clf = tree.DecisionTreeClassifier(random_state=1)\n",
    "clf = clf.fit(X_train, Y_train)\n",
    "Y_pred = clf.predict(X_test)\n",
    "from sklearn.metrics import accuracy_score\n",
    "print(\"L’accuracy d'un arbre CART:\", accuracy_score(Y_test, Y_pred)*100, \"%\")\n",
    "from sklearn.metrics import precision_score\n",
    "print(\"La precision d'un arbre CART:\", precision_score(Y_test, Y_pred)*100, \"%\")\n",
    "from sklearn.metrics import recall_score\n",
    "print(\"Le rappel d'un arbre CART:\", recall_score(Y_test, Y_pred)*100, \"%\")"
   ]
  },
  {
   "cell_type": "code",
   "execution_count": 15,
   "metadata": {
    "scrolled": true
   },
   "outputs": [
    {
     "name": "stdout",
     "output_type": "stream",
     "text": [
      "L’accuracy d'un arbre CART: 74.65373961218836 %\n",
      "La precision d'un arbre CART: 80.0 %\n",
      "Le rappel d'un arbre CART: 86.72397325692455 %\n"
     ]
    }
   ],
   "source": [
    "from sklearn.neighbors import KNeighborsClassifier\n",
    "clf = KNeighborsClassifier(n_neighbors=5)\n",
    "clf = clf.fit(X_train, Y_train)\n",
    "Y_pred = clf.predict(X_test)\n",
    "from sklearn.metrics import accuracy_score\n",
    "print(\"L’accuracy d'un arbre CART:\", accuracy_score(Y_test, Y_pred)*100, \"%\")\n",
    "from sklearn.metrics import precision_score\n",
    "print(\"La precision d'un arbre CART:\", precision_score(Y_test, Y_pred)*100, \"%\")\n",
    "from sklearn.metrics import recall_score\n",
    "print(\"Le rappel d'un arbre CART:\", recall_score(Y_test, Y_pred)*100, \"%\")"
   ]
  },
  {
   "cell_type": "markdown",
   "metadata": {},
   "source": [
    "# 5. Sélection de variables :"
   ]
  },
  {
   "cell_type": "code",
   "execution_count": 25,
   "metadata": {},
   "outputs": [
    {
     "name": "stdout",
     "output_type": "stream",
     "text": [
      "['Income' 'Seniority' 'Price' 'Amount' 'Age' 'Assets' 'Expenses' 'Records'\n",
      " 'Time' 'Job' 'Debt' 'Home' 'Marital']\n"
     ]
    },
    {
     "data": {
      "image/png": "[encoded data removed]",
      "text/plain": [
       "<Figure size 432x288 with 1 Axes>"
      ]
     },
     "metadata": {
      "needs_background": "light"
     },
     "output_type": "display_data"
    }
   ],
   "source": [
    "from sklearn.preprocessing import MinMaxScaler\n",
    "scaler = MinMaxScaler()\n",
    "scaler.fit(X)\n",
    "X_scaled = scaler.transform(X)\n",
    "from sklearn.model_selection import train_test_split\n",
    "X_train, X_test, Y_train, Y_test = train_test_split(X_scaled, Y, test_size=0.33, random_state=42)\n",
    "from sklearn.ensemble import RandomForestClassifier\n",
    "\n",
    "from numpy.core.umath_tests import inner1d\n",
    "clf = RandomForestClassifier(n_estimators=100)\n",
    "clf.fit(X_scaled, Y)\n",
    "importances=clf.feature_importances_\n",
    "std = np.std([tree.feature_importances_ for tree in clf.estimators_],axis=0)\n",
    "sorted_idx = np.argsort(importances)[::-1]\n",
    "features = np.asarray(list(data_df))\n",
    "print(features[sorted_idx])\n",
    "padding = np.arange(X_train.size/len(X_train)) + 0.5\n",
    "plt.barh(padding, importances[sorted_idx],xerr=std[sorted_idx], align='center')\n",
    "plt.yticks(padding, features[sorted_idx])\n",
    "plt.xlabel(\"Relative Importance\")\n",
    "plt.title(\"Variable Importance\")\n",
    "plt.show()"
   ]
  },
  {
   "cell_type": "code",
   "execution_count": 34,
   "metadata": {},
   "outputs": [
    {
     "data": {
      "image/png": "[encoded data removed]",
      "text/plain": [
       "<Figure size 432x288 with 1 Axes>"
      ]
     },
     "metadata": {
      "needs_background": "light"
     },
     "output_type": "display_data"
    }
   ],
   "source": [
    "KNN=KNeighborsClassifier(n_neighbors=5)\n",
    "scores=np.zeros(X_train.shape[1]+1)\n",
    "for f in np.arange(0, X_train.shape[1]+1):\n",
    "    X1_f = X_train[:,sorted_idx[:f+1]]\n",
    "    X2_f = X_test[:,sorted_idx[:f+1]]\n",
    "    KNN.fit(X1_f,Y_train)\n",
    "    YKNN=KNN.predict(X2_f)\n",
    "    scores[f]=np.round(accuracy_score(Y_test,YKNN),3)\n",
    "plt.plot(scores)\n",
    "plt.xlabel(\"Nombre de Variables\")\n",
    "plt.ylabel(\"Accuracy\")\n",
    "plt.title(\"Evolution de l'accuracy en fonction des variables\")\n",
    "plt.show()"
   ]
  }
 ],
 "metadata": {
  "kernelspec": {
   "display_name": "Python 3",
   "language": "python",
   "name": "python3"
  },
  "language_info": {
   "codemirror_mode": {
    "name": "ipython",
    "version": 3
   },
   "file_extension": ".py",
   "mimetype": "text/x-python",
   "name": "python",
   "nbconvert_exporter": "python",
   "pygments_lexer": "ipython3",
   "version": "3.7.0"
  }
 },
 "nbformat": 4,
 "nbformat_minor": 2
}
