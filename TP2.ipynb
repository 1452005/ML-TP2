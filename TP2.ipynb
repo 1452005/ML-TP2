{
 "cells": [
  {
   "cell_type": "markdown",
   "metadata": {},
   "source": [
    "Créer un nouveau notebook Python et taper le code suivant dans une nouvelle cellule :"
   ]
  },
  {
   "cell_type": "code",
   "execution_count": 2,
   "metadata": {},
   "outputs": [],
   "source": [
    "import numpy as np\n",
    "np.set_printoptions(threshold=np.nan,suppress=True)\n",
    "import pandas as pd\n",
    "import warnings\n",
    "import matplotlib.pyplot as plt\n",
    "warnings.filterwarnings('ignore')"
   ]
  },
  {
   "cell_type": "markdown",
   "metadata": {},
   "source": [
    "# 1. Chargement des données et préparation : Dans un premier temps nous allons importer le jeu de données et analyser ses caractéristiques"
   ]
  },
  {
   "cell_type": "markdown",
   "metadata": {},
   "source": [
    "## • Importer ce jeu de données avec la librairie pandas (c.f. read_csv)\n",
    "\n",
    "## • Transformer votre jeu de données issue de pandas qui sera de type Data Frame en numpy Array (c.f. values) et séparer ensuite les variables caractéristiques de la variable à prédire (status) en deux tableaux différents."
   ]
  },
  {
   "cell_type": "code",
   "execution_count": 53,
   "metadata": {},
   "outputs": [],
   "source": [
    "data_df = pd.read_csv('./credit_scoring.csv', sep=';')\n",
    "data = data_df.values\n",
    "#  variables caractéristiques \n",
    "X = data[:,0:13]\n",
    "#  variable à prédire\n",
    "Y = data[:,13]"
   ]
  },
  {
   "cell_type": "markdown",
   "metadata": {},
   "source": [
    "## • Analyser les propriétés de vos données : taille de l’échantillon (c.f. shape), nombre d’exemples positifs et négatifs (c.f. hist)."
   ]
  },
  {
   "cell_type": "code",
   "execution_count": 14,
   "metadata": {},
   "outputs": [
    {
     "data": {
      "text/plain": [
       "(4375, 14)"
      ]
     },
     "execution_count": 14,
     "metadata": {},
     "output_type": "execute_result"
    }
   ],
   "source": [
    "data.shape"
   ]
  },
  {
   "cell_type": "markdown",
   "metadata": {},
   "source": [
    "On a 4375 observations dans notre l’échantillon et 14 colonnes (c.à.d 13 variables caractéristiques + 1 variable à prédire)"
   ]
  },
  {
   "cell_type": "code",
   "execution_count": 52,
   "metadata": {},
   "outputs": [
    {
     "data": {
      "text/plain": [
       "array([[<matplotlib.axes._subplots.AxesSubplot object at 0x0000028A6C72A710>,\n",
       "        <matplotlib.axes._subplots.AxesSubplot object at 0x0000028A6C93E7B8>,\n",
       "        <matplotlib.axes._subplots.AxesSubplot object at 0x0000028A6CA93EB8>,\n",
       "        <matplotlib.axes._subplots.AxesSubplot object at 0x0000028A6CAC2588>],\n",
       "       [<matplotlib.axes._subplots.AxesSubplot object at 0x0000028A6CAE9C18>,\n",
       "        <matplotlib.axes._subplots.AxesSubplot object at 0x0000028A6CAE9C50>,\n",
       "        <matplotlib.axes._subplots.AxesSubplot object at 0x0000028A6CB40978>,\n",
       "        <matplotlib.axes._subplots.AxesSubplot object at 0x0000028A6CB73048>],\n",
       "       [<matplotlib.axes._subplots.AxesSubplot object at 0x0000028A6CB9D6D8>,\n",
       "        <matplotlib.axes._subplots.AxesSubplot object at 0x0000028A6CBC3D68>,\n",
       "        <matplotlib.axes._subplots.AxesSubplot object at 0x0000028A6CBF4438>,\n",
       "        <matplotlib.axes._subplots.AxesSubplot object at 0x0000028A6CC1BAC8>],\n",
       "       [<matplotlib.axes._subplots.AxesSubplot object at 0x0000028A6CC4E198>,\n",
       "        <matplotlib.axes._subplots.AxesSubplot object at 0x0000028A6CC74828>,\n",
       "        <matplotlib.axes._subplots.AxesSubplot object at 0x0000028A6CC9EEB8>,\n",
       "        <matplotlib.axes._subplots.AxesSubplot object at 0x0000028A6CCD0588>]],\n",
       "      dtype=object)"
      ]
     },
     "execution_count": 52,
     "metadata": {},
     "output_type": "execute_result"
    },
    {
     "data": {
      "image/png": "[encoded data removed]",
      "text/plain": [
       "<Figure size 432x288 with 16 Axes>"
      ]
     },
     "metadata": {
      "needs_background": "light"
     },
     "output_type": "display_data"
    }
   ],
   "source": [
    "data_df.hist(bins = 2)"
   ]
  },
  {
   "cell_type": "markdown",
   "metadata": {},
   "source": [
    "## • Pour éviter d’avoir un résultat biaisé du classifieur que nous allons construire, séparer les données en deux partie une dite d’apprentissage qui servira à l’apprentissage du classifieur et l’autre dite de test qui servira à son évaluation (c.f. train_test_split)."
   ]
  },
  {
   "cell_type": "code",
   "execution_count": 54,
   "metadata": {},
   "outputs": [],
   "source": [
    "from sklearn.model_selection import train_test_split\n",
    "X_train, X_test, Y_train, Y_test = train_test_split(X, Y, test_size=0.33, random_state=42)"
   ]
  },
  {
   "cell_type": "markdown",
   "metadata": {},
   "source": [
    "on split notre dataset en deux parties ( un tier pour le test, et deux tiers pour training)"
   ]
  },
  {
   "cell_type": "markdown",
   "metadata": {},
   "source": [
    "# 2. Apprentissage et évaluation de modèles : Utiliser ensuite sur votre jeu de données les algorithmes d’apprentissage supervisé suivants :"
   ]
  },
  {
   "cell_type": "markdown",
   "metadata": {},
   "source": [
    "## • Un arbre CART (random_state=1)"
   ]
  },
  {
   "cell_type": "code",
   "execution_count": 137,
   "metadata": {},
   "outputs": [
    {
     "name": "stdout",
     "output_type": "stream",
     "text": [
      "L’accuracy d'un arbre CART: 71.26038781163435 %\n",
      "La precision d'un arbre CART: 79.81132075471699 %\n",
      "Le rappel d'un arbre CART: 80.80229226361033 %\n"
     ]
    }
   ],
   "source": [
    "from sklearn import tree\n",
    "clf = tree.DecisionTreeClassifier(random_state=1)\n",
    "clf = clf.fit(X_train, Y_train)\n",
    "Y_pred = clf.predict(X_test)\n",
    "from sklearn.metrics import accuracy_score\n",
    "print(\"L’accuracy d'un arbre CART:\", accuracy_score(Y_test, Y_pred)*100, \"%\")\n",
    "from sklearn.metrics import precision_score\n",
    "print(\"La precision d'un arbre CART:\", precision_score(Y_test, Y_pred)*100, \"%\")\n",
    "from sklearn.metrics import recall_score\n",
    "print(\"Le rappel d'un arbre CART:\", recall_score(Y_test, Y_pred)*100, \"%\")"
   ]
  },
  {
   "cell_type": "markdown",
   "metadata": {},
   "source": [
    "## • k-plus-proches-voisins avec k=5"
   ]
  },
  {
   "cell_type": "code",
   "execution_count": 136,
   "metadata": {},
   "outputs": [
    {
     "name": "stdout",
     "output_type": "stream",
     "text": [
      "L’accuracy d'un arbre CART: 72.02216066481995 %\n",
      "La precision d'un arbre CART: 77.03952901597981 %\n",
      "Le rappel d'un arbre CART: 87.48806112702961 %\n"
     ]
    }
   ],
   "source": [
    "from sklearn.neighbors import KNeighborsClassifier\n",
    "clf = KNeighborsClassifier(n_neighbors=5)\n",
    "clf = clf.fit(X_train, Y_train)\n",
    "Y_pred = clf.predict(X_test)\n",
    "from sklearn.metrics import accuracy_score\n",
    "print(\"L’accuracy d'un arbre CART:\", accuracy_score(Y_test, Y_pred)*100, \"%\")\n",
    "from sklearn.metrics import precision_score\n",
    "print(\"La precision d'un arbre CART:\", precision_score(Y_test, Y_pred)*100, \"%\")\n",
    "from sklearn.metrics import recall_score\n",
    "print(\"Le rappel d'un arbre CART:\", recall_score(Y_test, Y_pred)*100, \"%\")"
   ]
  },
  {
   "cell_type": "markdown",
   "metadata": {},
   "source": [
    "Entre la presicion et le rappel, le rappel est le meilleur critère pour comparer les 2 classifications. \n",
    "Car le dénominateur du rappel est constant. Alors, on peut baser sur le numérateur pour la comparaison.\n",
    "\n"
   ]
  },
  {
   "cell_type": "code",
   "execution_count": null,
   "metadata": {},
   "outputs": [],
   "source": []
  }
 ],
 "metadata": {
  "kernelspec": {
   "display_name": "Python 3",
   "language": "python",
   "name": "python3"
  },
  "language_info": {
   "codemirror_mode": {
    "name": "ipython",
    "version": 3
   },
   "file_extension": ".py",
   "mimetype": "text/x-python",
   "name": "python",
   "nbconvert_exporter": "python",
   "pygments_lexer": "ipython3",
   "version": "3.7.0"
  }
 },
 "nbformat": 4,
 "nbformat_minor": 2
}
